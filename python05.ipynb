{
 "cells": [
  {
   "cell_type": "markdown",
   "id": "f3ae226b",
   "metadata": {},
   "source": [
    "#123"
   ]
  },
  {
   "cell_type": "code",
   "execution_count": null,
   "id": "e2daf1d8",
   "metadata": {},
   "outputs": [],
   "source": []
  }
 ],
 "metadata": {
  "language_info": {
   "name": "python"
  }
 },
 "nbformat": 4,
 "nbformat_minor": 5
}
