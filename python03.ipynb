{
 "cells": [
  {
   "cell_type": "markdown",
   "id": "631700db",
   "metadata": {},
   "source": [
    "# 라이브러리 응용"
   ]
  },
  {
   "cell_type": "code",
   "execution_count": 14,
   "id": "dd16e5a4-2745-4ad2-8b31-0972cfa6fde2",
   "metadata": {},
   "outputs": [],
   "source": [
    "# 쓰레드 제어 준비\n",
    "import time as t\n",
    "\n",
    "# 작업 5초\n",
    "def long_task():\n",
    "    for w in range(5):\n",
    "        print(f\"작업 중... {w+1}\")\n",
    "        t.sleep(1)"
   ]
  },
  {
   "cell_type": "code",
   "execution_count": 16,
   "id": "3dc66e97",
   "metadata": {},
   "outputs": [
    {
     "name": "stdout",
     "output_type": "stream",
     "text": [
      "=====Start=====\n",
      "작업 중... 1\n",
      "작업 중... 2\n",
      "작업 중... 3\n",
      "작업 중... 4\n",
      "작업 중... 5\n",
      "=====End=====\n",
      "총 소요 시간: 5.00초 \n",
      "\n",
      "=====Start=====\n",
      "작업 중... 1\n",
      "작업 중... 2\n",
      "작업 중... 3\n",
      "작업 중... 4\n",
      "작업 중... 5\n",
      "=====End=====\n",
      "총 소요 시간: 10.01초 \n",
      "\n",
      "=====Start=====\n",
      "작업 중... 1\n",
      "작업 중... 2\n",
      "작업 중... 3\n",
      "작업 중... 4\n",
      "작업 중... 5\n",
      "=====End=====\n",
      "총 소요 시간: 15.01초 \n",
      "\n",
      "=====Start=====\n",
      "작업 중... 1\n",
      "작업 중... 2\n",
      "작업 중... 3\n",
      "작업 중... 4\n",
      "작업 중... 5\n",
      "=====End=====\n",
      "총 소요 시간: 20.01초 \n",
      "\n",
      "=====Start=====\n",
      "작업 중... 1\n",
      "작업 중... 2\n",
      "작업 중... 3\n",
      "작업 중... 4\n",
      "작업 중... 5\n",
      "=====End=====\n",
      "총 소요 시간: 25.02초 \n",
      "\n"
     ]
    }
   ],
   "source": [
    "# 쓰레드 제어\n",
    "# 작업 5초 x 5회 = 25초\n",
    "\n",
    "start = t.time()\n",
    "# 5초 작업을 5회 반복\n",
    "for n in range(5):\n",
    "    print(\"=====Start=====\")\n",
    "    long_task()\n",
    "    print(f\"=====End=====\")\n",
    "    print(f\"총 소요 시간: {t.time() - start:.2f}초 \\n\")"
   ]
  },
  {
   "cell_type": "code",
   "execution_count": 11,
   "id": "bd90c47f",
   "metadata": {},
   "outputs": [
    {
     "name": "stdout",
     "output_type": "stream",
     "text": [
      "=====Start=====\n",
      "작업 중... 1\n",
      "작업 중... 1\n",
      "작업 중... 1\n",
      "작업 중... 1\n",
      "작업 중... 1\n",
      "작업 중... 2\n",
      "작업 중... 2\n",
      "작업 중... 2\n",
      "작업 중... 2\n",
      "작업 중... 2\n",
      "작업 중... 3\n",
      "작업 중... 3\n",
      "작업 중... 3\n",
      "작업 중... 3\n",
      "작업 중... 3\n",
      "작업 중... 4\n",
      "작업 중... 4\n",
      "작업 중... 4\n",
      "작업 중... 4\n",
      "작업 중... 4\n",
      "작업 중... 5\n",
      "작업 중... 5\n",
      "작업 중... 5\n",
      "작업 중... 5\n",
      "작업 중... 5\n",
      "=====End=====\n",
      "총 소요시간:  5.01초\n"
     ]
    }
   ],
   "source": [
    "# 쓰레드를 사용함, 프로그램적으로 병렬처리\n",
    "import threading\n",
    "import time as t\n",
    "\n",
    "start = t.time()\n",
    "print(\"=====Start=====\")\n",
    "\n",
    "\n",
    "# 쓰레드 생성\n",
    "threads = []\n",
    "\n",
    "for n in range(5):\n",
    "    th = threading.Thread(target=long_task)\n",
    "    threads.append(th)\n",
    "\n",
    "for tr in threads:\n",
    "    tr.start()\n",
    "for tr in threads:\n",
    "    tr.join()\n",
    "\n",
    "print(\"=====End=====\")\n",
    "print(f\"총 소요시간: {t.time() - start: .2f}초\")"
   ]
  },
  {
   "cell_type": "code",
   "execution_count": 17,
   "id": "16b49dd8",
   "metadata": {},
   "outputs": [
    {
     "name": "stdout",
     "output_type": "stream",
     "text": [
      "=====Start=====\n",
      "=====End=====\n",
      "총 소요시간:  0.06초\n"
     ]
    }
   ],
   "source": [
    "# mulithreading 모듈을 사용, 물리적으로 cpu 코어를 활용하여 병렬처리\n",
    "import multiprocessing\n",
    "import time as t\n",
    "\n",
    "if __name__ == \"__main__\":\n",
    "    \n",
    "   \n",
    "    start = t. time()\n",
    "    print(\"=====Start=====\")\n",
    "    processes = []\n",
    "    for n in range(5):\n",
    "        p = multiprocessing.Process(target=long_task)\n",
    "        processes.append(p)\n",
    "    for p in processes:\n",
    "        p.start()\n",
    "    for p in processes:\n",
    "        p.join()\n",
    "    print(\"=====End=====\")\n",
    "    print(f\"총 소요시간: {t.time() - start: .2f}초\")\n"
   ]
  },
  {
   "cell_type": "markdown",
   "id": "276d4af7",
   "metadata": {},
   "source": [
    "## JSON"
   ]
  },
  {
   "cell_type": "code",
   "execution_count": 30,
   "id": "16fd2b97",
   "metadata": {},
   "outputs": [
    {
     "name": "stdout",
     "output_type": "stream",
     "text": [
      "<class 'dict'> {'name': '홍길동', 'age': 30, 'address': '부산'}\n"
     ]
    }
   ],
   "source": [
    "test = {\n",
    "    \"name\":\"홍길동\",\n",
    "    \"age\": 30,\n",
    "    \"address\": \"부산\"\n",
    "}\n",
    "print(type(test),test)"
   ]
  },
  {
   "cell_type": "code",
   "execution_count": 31,
   "id": "f5f1d899",
   "metadata": {},
   "outputs": [
    {
     "name": "stdout",
     "output_type": "stream",
     "text": [
      "{\"name\": \"\\ud64d\\uae38\\ub3d9\", \"age\": 30, \"address\": \"\\ubd80\\uc0b0\"} <class 'str'>\n"
     ]
    }
   ],
   "source": [
    "import json\n",
    "#JSON으로 변환\n",
    "\n",
    "data = json.dumps(test) # 문자열로 변환\n",
    "print(data, type(data))\n"
   ]
  },
  {
   "cell_type": "code",
   "execution_count": 44,
   "id": "f950d524",
   "metadata": {},
   "outputs": [
    {
     "name": "stdout",
     "output_type": "stream",
     "text": [
      "5개의 스마트카 데이터가 smartcar_data.json 파일에 저장되었습니다.\n"
     ]
    }
   ],
   "source": [
    "import json\n",
    "import time\n",
    "import random\n",
    "\n",
    "def generate_smartcar_data():\n",
    "    return {\n",
    "        \"car_id\": random.randint(1, 100),\n",
    "        \"speed\": random.randint(0, 150),  # km/h\n",
    "        \"fuel_level\": round(random.uniform(0, 100), 2),  # %\n",
    "        \"latitude\": round(random.uniform(-90.0, 90.0), 6),  # 위도\n",
    "        \"longitude\": round(random.uniform(-180.0, 180.0), 6),  # 경도\n",
    "        \"timestamp\": time.time()  # 현재 시간\n",
    "    }\n",
    "\n",
    "# n개의 데이터를 저장\n",
    "n = 5\n",
    "with open(\"smartcar_data.json\", \"w\", encoding=\"utf-8\") as file:\n",
    "    for _ in range(n):\n",
    "        data = generate_smartcar_data()\n",
    "        json_str = json.dumps(data)\n",
    "        file.write(json_str + \"\\n\")\n",
    "\n",
    "print(f\"{n}개의 스마트카 데이터가 smartcar_data.json 파일에 저장되었습니다.\")\n"
   ]
  },
  {
   "cell_type": "code",
   "execution_count": 45,
   "id": "50b54ee1",
   "metadata": {},
   "outputs": [
    {
     "name": "stdout",
     "output_type": "stream",
     "text": [
      "[{'car_id': 34, 'speed': 19, 'fuel_level': 71.74, 'latitude': -65.358824, 'longitude': 132.109624, 'timestamp': 1752030012.9389381}, {'car_id': 97, 'speed': 15, 'fuel_level': 21.52, 'latitude': 51.299967, 'longitude': 160.187768, 'timestamp': 1752030012.9389873}, {'car_id': 72, 'speed': 118, 'fuel_level': 5.86, 'latitude': 18.477848, 'longitude': -135.46272, 'timestamp': 1752030012.938996}, {'car_id': 16, 'speed': 48, 'fuel_level': 81.08, 'latitude': 66.255008, 'longitude': 163.137258, 'timestamp': 1752030012.939002}, {'car_id': 57, 'speed': 97, 'fuel_level': 98.56, 'latitude': 60.187473, 'longitude': 80.732589, 'timestamp': 1752030012.9390075}]\n"
     ]
    }
   ],
   "source": [
    "import json\n",
    "\n",
    "data = []\n",
    "with open(\"./smartcar_data.json\", \"r\", encoding=\"utf-8\") as f:\n",
    "    for line in f:\n",
    "        record = json.loads(line)\n",
    "        data.append(record)\n",
    "\n",
    "# 처음 5개 출력\n",
    "print(data[:5])"
   ]
  },
  {
   "cell_type": "code",
   "execution_count": 34,
   "id": "21c9f728",
   "metadata": {},
   "outputs": [
    {
     "ename": "KeyError",
     "evalue": "slice(None, 5, None)",
     "output_type": "error",
     "traceback": [
      "\u001b[31m---------------------------------------------------------------------------\u001b[39m",
      "\u001b[31mKeyError\u001b[39m                                  Traceback (most recent call last)",
      "\u001b[36mCell\u001b[39m\u001b[36m \u001b[39m\u001b[32mIn[34]\u001b[39m\u001b[32m, line 1\u001b[39m\n\u001b[32m----> \u001b[39m\u001b[32m1\u001b[39m \u001b[38;5;28;01mfor\u001b[39;00m d \u001b[38;5;129;01min\u001b[39;00m \u001b[43mdata\u001b[49m\u001b[43m[\u001b[49m\u001b[43m:\u001b[49m\u001b[32;43m5\u001b[39;49m\u001b[43m]\u001b[49m:\n\u001b[32m      2\u001b[39m     \u001b[38;5;28;01mif\u001b[39;00m d.get(\u001b[33m\"\u001b[39m\u001b[33mcar_id\u001b[39m\u001b[33m\"\u001b[39m)== \u001b[32m3\u001b[39m:\n\u001b[32m      3\u001b[39m         \u001b[38;5;28mprint\u001b[39m(d)\n",
      "\u001b[31mKeyError\u001b[39m: slice(None, 5, None)"
     ]
    }
   ],
   "source": [
    "for d in data[:5]:\n",
    "    if d.get(\"car_id\")== 3:\n",
    "        print(d)"
   ]
  },
  {
   "cell_type": "code",
   "execution_count": 47,
   "id": "d05aa559",
   "metadata": {},
   "outputs": [
    {
     "name": "stdout",
     "output_type": "stream",
     "text": [
      "77 necessitatibus quasi exercitationem odio\n"
     ]
    },
    {
     "ename": "ValueError",
     "evalue": "I/O operation on closed file.",
     "output_type": "error",
     "traceback": [
      "\u001b[31m---------------------------------------------------------------------------\u001b[39m",
      "\u001b[31mValueError\u001b[39m                                Traceback (most recent call last)",
      "\u001b[36mCell\u001b[39m\u001b[36m \u001b[39m\u001b[32mIn[47]\u001b[39m\u001b[32m, line 12\u001b[39m\n\u001b[32m     10\u001b[39m \u001b[38;5;28;01mif\u001b[39;00m d.get(\u001b[33m\"\u001b[39m\u001b[33mid\u001b[39m\u001b[33m\"\u001b[39m) == \u001b[32m77\u001b[39m:\n\u001b[32m     11\u001b[39m     \u001b[38;5;28mprint\u001b[39m(d[\u001b[33m\"\u001b[39m\u001b[33mid\u001b[39m\u001b[33m\"\u001b[39m], d[\u001b[33m\"\u001b[39m\u001b[33mtitle\u001b[39m\u001b[33m\"\u001b[39m])\n\u001b[32m---> \u001b[39m\u001b[32m12\u001b[39m     \u001b[43mjson\u001b[49m\u001b[43m.\u001b[49m\u001b[43mdump\u001b[49m\u001b[43m(\u001b[49m\u001b[43md\u001b[49m\u001b[43m,\u001b[49m\u001b[43m \u001b[49m\u001b[43mf\u001b[49m\u001b[43m,\u001b[49m\u001b[43mensure_ascii\u001b[49m\u001b[43m=\u001b[49m\u001b[38;5;28;43;01mFalse\u001b[39;49;00m\u001b[43m)\u001b[49m \u001b[38;5;66;03m# ensure_ascii=False는 한글이 깨지지 않도록 함\u001b[39;00m\n",
      "\u001b[36mFile \u001b[39m\u001b[32m~\\AppData\\Local\\Programs\\Python\\Python313\\Lib\\json\\__init__.py:180\u001b[39m, in \u001b[36mdump\u001b[39m\u001b[34m(obj, fp, skipkeys, ensure_ascii, check_circular, allow_nan, cls, indent, separators, default, sort_keys, **kw)\u001b[39m\n\u001b[32m    177\u001b[39m \u001b[38;5;66;03m# could accelerate with writelines in some versions of Python, at\u001b[39;00m\n\u001b[32m    178\u001b[39m \u001b[38;5;66;03m# a debuggability cost\u001b[39;00m\n\u001b[32m    179\u001b[39m \u001b[38;5;28;01mfor\u001b[39;00m chunk \u001b[38;5;129;01min\u001b[39;00m iterable:\n\u001b[32m--> \u001b[39m\u001b[32m180\u001b[39m     \u001b[43mfp\u001b[49m\u001b[43m.\u001b[49m\u001b[43mwrite\u001b[49m\u001b[43m(\u001b[49m\u001b[43mchunk\u001b[49m\u001b[43m)\u001b[49m\n",
      "\u001b[31mValueError\u001b[39m: I/O operation on closed file."
     ]
    }
   ],
   "source": [
    "# https://jsonplaceholder.typicode.com/posts\n",
    "\n",
    "import requests\n",
    "import json\n",
    "\n",
    "url = \"http://jsonplaceholder.typicode.com/posts\"\n",
    "\n",
    "data = requests.get(url).json()\n",
    "for d in data:\n",
    "    if d.get(\"id\") == 77:\n",
    "        print(d[\"id\"], d[\"title\"])\n",
    "        json.dump(d, f,ensure_ascii=False) # ensure_ascii=False는 한글이 깨지지 않도록 함\n"
   ]
  },
  {
   "cell_type": "code",
   "execution_count": 49,
   "id": "b189abf8",
   "metadata": {},
   "outputs": [
    {
     "name": "stdout",
     "output_type": "stream",
     "text": [
      "시가총액 : 네이버페이 증권\n",
      "1 삼성전자 60,750\n",
      "2 SK하이닉스 280,750\n",
      "3 삼성바이오로직스 1,017,000\n",
      "4 LG에너지솔루션 306,000\n",
      "5 KB금융 118,400\n",
      "6 현대차 207,500\n",
      "7 두산에너빌리티 64,700\n",
      "8 삼성전자우 50,600\n",
      "9 한화에어로스페이스 847,000\n",
      "10 NAVER 252,500\n",
      "11 기아 99,500\n",
      "12 셀트리온 174,700\n",
      "13 HD현대중공업 398,000\n",
      "14 신한지주 70,400\n",
      "15 삼성물산 170,000\n",
      "16 현대모비스 308,000\n",
      "17 하나금융지주 94,400\n",
      "18 카카오 59,800\n",
      "19 삼성생명 131,600\n",
      "20 POSCO홀딩스 312,500\n",
      "21 HMM 24,600\n",
      "22 SK스퀘어 180,900\n",
      "23 한국전력 37,300\n",
      "24 한화오션 78,000\n",
      "25 HD한국조선해양 329,500\n",
      "26 삼성화재 477,500\n",
      "27 현대로템 193,300\n",
      "28 메리츠금융지주 115,700\n",
      "29 우리금융지주 25,250\n",
      "30 LG화학 261,500\n",
      "31 SK이노베이션 117,300\n",
      "32 고려아연 857,000\n",
      "33 크래프톤 356,000\n",
      "34 KT&G 137,200\n",
      "35 SK 225,000\n",
      "36 기업은행 20,300\n",
      "37 HD현대일렉트릭 448,000\n",
      "38 삼성중공업 17,480\n",
      "39 카카오뱅크 30,200\n",
      "40 KT 55,800\n",
      "41 삼성SDI 170,700\n",
      "42 LG 82,000\n",
      "43 삼성에스디에스 164,200\n",
      "44 미래에셋증권 22,100\n",
      "45 LIG넥스원 567,000\n",
      "46 LG전자 73,900\n",
      "47 SK텔레콤 55,300\n",
      "48 하이브 277,000\n",
      "49 삼양식품 1,476,000\n",
      "50 카카오페이 82,250\n"
     ]
    }
   ],
   "source": [
    "import requests as req\n",
    "from bs4 import BeautifulSoup as bs\n",
    "\n",
    "url = \"https://finance.naver.com/sise/sise_market_sum.naver\"\n",
    "web = req.get(url)\n",
    "\n",
    "soup = bs(web.content, \"html.parser\")\n",
    "print(soup.title.text)\n",
    "tableline = soup.select(\".type_2 tr\")\n",
    "\n",
    "for t in tableline:\n",
    "    no = t.select_one(\".no\")\n",
    "    title = t.select_one(\".tltle\")\n",
    "    number = t.select_one(\".number\")\n",
    "    if (no or title or number):\n",
    "        print(no.text, title.text, number.text)"
   ]
  },
  {
   "cell_type": "code",
   "execution_count": 14,
   "id": "d2de1289",
   "metadata": {},
   "outputs": [],
   "source": [
    "!pip install -q -U google-genai"
   ]
  },
  {
   "cell_type": "code",
   "execution_count": null,
   "id": "bca3b65c",
   "metadata": {},
   "outputs": [
    {
     "name": "stdout",
     "output_type": "stream",
     "text": [
      "안녕하세요! 스마트 제조, 스마트 팩토리, 스마트 팜에서 '시퀀스'는 자동화 시스템이 특정 작업을 수행하는 **일련의 정해진 순서와 논리적인 흐름**을 의미합니다.\n",
      "\n",
      "예를 들어, 스마트 팩토리에서 제품이 컨베이어 벨트를 따라 이동하면 센서가 이를 감지하고, 그 신호에 따라 로봇이 정확히 물건을 집어 다음 공정으로 옮기는 모든 과정이 시퀀스로 짜여 있습니다.\n",
      "\n",
      "이는 생산 효율을 극대화하고 오류를 줄여, 공정 전체를 예측 가능하고 안정적으로 운영하게 하는 자동화의 핵심 원리라고 할 수 있어요.\n"
     ]
    }
   ],
   "source": [
    "from google import genai\n",
    "\n",
    "def aiai(text):\n",
    "\n",
    "    client = genai.Client(api_key=\"api key 입력\")\n",
    "\n",
    "    response = client.models.generate_content(\n",
    "        model=\"gemini-2.5-flash\", contents = text + \";단, 300자 이내로 서술형으로 친절하게 알려줘. 스마트제조, 스마트팩토리, 스마트팜 등 자동화 산업에 관련된 대답만 해줘\"\n",
    "    )\n",
    "    print(response.text)\n",
    "\n",
    "aiai(\"시퀀스에 대해 설명해줘\")"
   ]
  },
  {
   "cell_type": "markdown",
   "id": "1eefbda8",
   "metadata": {},
   "source": [
    "## 넘파이 Numpy"
   ]
  },
  {
   "cell_type": "code",
   "execution_count": 21,
   "id": "9a700658",
   "metadata": {},
   "outputs": [
    {
     "name": "stdout",
     "output_type": "stream",
     "text": [
      "Collecting qrcode\n",
      "  Downloading qrcode-8.2-py3-none-any.whl.metadata (17 kB)\n",
      "Requirement already satisfied: colorama in c:\\users\\user\\appdata\\local\\programs\\python\\python313\\lib\\site-packages (from qrcode) (0.4.6)\n",
      "Downloading qrcode-8.2-py3-none-any.whl (45 kB)\n",
      "Installing collected packages: qrcode\n",
      "Successfully installed qrcode-8.2\n"
     ]
    }
   ],
   "source": [
    "!pip install qrcode"
   ]
  },
  {
   "cell_type": "code",
   "execution_count": 25,
   "id": "b910af41",
   "metadata": {},
   "outputs": [
    {
     "name": "stderr",
     "output_type": "stream",
     "text": [
      "ERROR: Could not find a version that satisfies the requirement PIL (from versions: none)\n",
      "ERROR: No matching distribution found for PIL\n"
     ]
    }
   ],
   "source": [
    "!pip install PIL"
   ]
  },
  {
   "cell_type": "code",
   "execution_count": 27,
   "id": "416e2393",
   "metadata": {},
   "outputs": [
    {
     "name": "stdout",
     "output_type": "stream",
     "text": [
      "Collecting Pillow\n",
      "  Downloading pillow-11.3.0-cp313-cp313-win_amd64.whl.metadata (9.2 kB)\n",
      "Downloading pillow-11.3.0-cp313-cp313-win_amd64.whl (7.0 MB)\n",
      "   ---------------------------------------- 0.0/7.0 MB ? eta -:--:--\n",
      "   ---------------------------------------- 0.0/7.0 MB ? eta -:--:--\n",
      "   - -------------------------------------- 0.3/7.0 MB ? eta -:--:--\n",
      "   --- ------------------------------------ 0.5/7.0 MB 1.1 MB/s eta 0:00:06\n",
      "   ---- ----------------------------------- 0.8/7.0 MB 915.4 kB/s eta 0:00:07\n",
      "   ------ --------------------------------- 1.0/7.0 MB 1.0 MB/s eta 0:00:06\n",
      "   ------ --------------------------------- 1.0/7.0 MB 1.0 MB/s eta 0:00:06\n",
      "   ------ --------------------------------- 1.0/7.0 MB 1.0 MB/s eta 0:00:06\n",
      "   ------- -------------------------------- 1.3/7.0 MB 792.5 kB/s eta 0:00:08\n",
      "   --------- ------------------------------ 1.6/7.0 MB 856.6 kB/s eta 0:00:07\n",
      "   ---------- ----------------------------- 1.8/7.0 MB 834.2 kB/s eta 0:00:07\n",
      "   ---------- ----------------------------- 1.8/7.0 MB 834.2 kB/s eta 0:00:07\n",
      "   ---------- ----------------------------- 1.8/7.0 MB 834.2 kB/s eta 0:00:07\n",
      "   ---------- ----------------------------- 1.8/7.0 MB 834.2 kB/s eta 0:00:07\n",
      "   ---------- ----------------------------- 1.8/7.0 MB 834.2 kB/s eta 0:00:07\n",
      "   ---------- ----------------------------- 1.8/7.0 MB 834.2 kB/s eta 0:00:07\n",
      "   ---------- ----------------------------- 1.8/7.0 MB 834.2 kB/s eta 0:00:07\n",
      "   ------------ --------------------------- 2.1/7.0 MB 552.4 kB/s eta 0:00:09\n",
      "   ------------ --------------------------- 2.1/7.0 MB 552.4 kB/s eta 0:00:09\n",
      "   ------------- -------------------------- 2.4/7.0 MB 561.3 kB/s eta 0:00:09\n",
      "   ------------- -------------------------- 2.4/7.0 MB 561.3 kB/s eta 0:00:09\n",
      "   ------------- -------------------------- 2.4/7.0 MB 561.3 kB/s eta 0:00:09\n",
      "   ------------- -------------------------- 2.4/7.0 MB 561.3 kB/s eta 0:00:09\n",
      "   --------------- ------------------------ 2.6/7.0 MB 524.4 kB/s eta 0:00:09\n",
      "   --------------- ------------------------ 2.6/7.0 MB 524.4 kB/s eta 0:00:09\n",
      "   --------------- ------------------------ 2.6/7.0 MB 524.4 kB/s eta 0:00:09\n",
      "   --------------- ------------------------ 2.6/7.0 MB 524.4 kB/s eta 0:00:09\n",
      "   --------------- ------------------------ 2.6/7.0 MB 524.4 kB/s eta 0:00:09\n",
      "   --------------- ------------------------ 2.6/7.0 MB 524.4 kB/s eta 0:00:09\n",
      "   ---------------- ----------------------- 2.9/7.0 MB 447.1 kB/s eta 0:00:10\n",
      "   ---------------- ----------------------- 2.9/7.0 MB 447.1 kB/s eta 0:00:10\n",
      "   ---------------- ----------------------- 2.9/7.0 MB 447.1 kB/s eta 0:00:10\n",
      "   ---------------- ----------------------- 2.9/7.0 MB 447.1 kB/s eta 0:00:10\n",
      "   ---------------- ----------------------- 2.9/7.0 MB 447.1 kB/s eta 0:00:10\n",
      "   ---------------- ----------------------- 2.9/7.0 MB 447.1 kB/s eta 0:00:10\n",
      "   ---------------- ----------------------- 2.9/7.0 MB 447.1 kB/s eta 0:00:10\n",
      "   ------------------ --------------------- 3.1/7.0 MB 393.1 kB/s eta 0:00:10\n",
      "   ------------------ --------------------- 3.1/7.0 MB 393.1 kB/s eta 0:00:10\n",
      "   ------------------ --------------------- 3.1/7.0 MB 393.1 kB/s eta 0:00:10\n",
      "   ------------------ --------------------- 3.1/7.0 MB 393.1 kB/s eta 0:00:10\n",
      "   ------------------ --------------------- 3.1/7.0 MB 393.1 kB/s eta 0:00:10\n",
      "   ------------------ --------------------- 3.1/7.0 MB 393.1 kB/s eta 0:00:10\n",
      "   ------------------ --------------------- 3.1/7.0 MB 393.1 kB/s eta 0:00:10\n",
      "   ------------------ --------------------- 3.1/7.0 MB 393.1 kB/s eta 0:00:10\n",
      "   ------------------- -------------------- 3.4/7.0 MB 346.9 kB/s eta 0:00:11\n",
      "   ------------------- -------------------- 3.4/7.0 MB 346.9 kB/s eta 0:00:11\n",
      "   ------------------- -------------------- 3.4/7.0 MB 346.9 kB/s eta 0:00:11\n",
      "   ------------------- -------------------- 3.4/7.0 MB 346.9 kB/s eta 0:00:11\n",
      "   ------------------- -------------------- 3.4/7.0 MB 346.9 kB/s eta 0:00:11\n",
      "   ------------------- -------------------- 3.4/7.0 MB 346.9 kB/s eta 0:00:11\n",
      "   --------------------- ------------------ 3.7/7.0 MB 333.0 kB/s eta 0:00:10\n",
      "   --------------------- ------------------ 3.7/7.0 MB 333.0 kB/s eta 0:00:10\n",
      "   --------------------- ------------------ 3.7/7.0 MB 333.0 kB/s eta 0:00:10\n",
      "   ---------------------- ----------------- 3.9/7.0 MB 339.9 kB/s eta 0:00:09\n",
      "   ------------------------ --------------- 4.2/7.0 MB 357.1 kB/s eta 0:00:08\n",
      "   ------------------------ --------------- 4.2/7.0 MB 357.1 kB/s eta 0:00:08\n",
      "   ------------------------- -------------- 4.5/7.0 MB 363.7 kB/s eta 0:00:07\n",
      "   ------------------------- -------------- 4.5/7.0 MB 363.7 kB/s eta 0:00:07\n",
      "   ------------------------- -------------- 4.5/7.0 MB 363.7 kB/s eta 0:00:07\n",
      "   --------------------------- ------------ 4.7/7.0 MB 370.0 kB/s eta 0:00:07\n",
      "   --------------------------- ------------ 4.7/7.0 MB 370.0 kB/s eta 0:00:07\n",
      "   ---------------------------- ----------- 5.0/7.0 MB 378.2 kB/s eta 0:00:06\n",
      "   ------------------------------ --------- 5.2/7.0 MB 389.9 kB/s eta 0:00:05\n",
      "   ------------------------------ --------- 5.2/7.0 MB 389.9 kB/s eta 0:00:05\n",
      "   ------------------------------ --------- 5.2/7.0 MB 389.9 kB/s eta 0:00:05\n",
      "   ------------------------------- -------- 5.5/7.0 MB 388.8 kB/s eta 0:00:04\n",
      "   ------------------------------- -------- 5.5/7.0 MB 388.8 kB/s eta 0:00:04\n",
      "   ------------------------------- -------- 5.5/7.0 MB 388.8 kB/s eta 0:00:04\n",
      "   --------------------------------- ------ 5.8/7.0 MB 391.8 kB/s eta 0:00:04\n",
      "   --------------------------------- ------ 5.8/7.0 MB 391.8 kB/s eta 0:00:04\n",
      "   --------------------------------- ------ 5.8/7.0 MB 391.8 kB/s eta 0:00:04\n",
      "   ---------------------------------- ----- 6.0/7.0 MB 390.6 kB/s eta 0:00:03\n",
      "   ---------------------------------- ----- 6.0/7.0 MB 390.6 kB/s eta 0:00:03\n",
      "   ------------------------------------ --- 6.3/7.0 MB 400.7 kB/s eta 0:00:02\n",
      "   ------------------------------------ --- 6.3/7.0 MB 400.7 kB/s eta 0:00:02\n",
      "   ------------------------------------ --- 6.3/7.0 MB 400.7 kB/s eta 0:00:02\n",
      "   ------------------------------------- -- 6.6/7.0 MB 401.5 kB/s eta 0:00:02\n",
      "   ------------------------------------- -- 6.6/7.0 MB 401.5 kB/s eta 0:00:02\n",
      "   ------------------------------------- -- 6.6/7.0 MB 401.5 kB/s eta 0:00:02\n",
      "   ------------------------------------- -- 6.6/7.0 MB 401.5 kB/s eta 0:00:02\n",
      "   ------------------------------------- -- 6.6/7.0 MB 401.5 kB/s eta 0:00:02\n",
      "   ------------------------------------- -- 6.6/7.0 MB 401.5 kB/s eta 0:00:02\n",
      "   ------------------------------------- -- 6.6/7.0 MB 401.5 kB/s eta 0:00:02\n",
      "   ------------------------------------- -- 6.6/7.0 MB 401.5 kB/s eta 0:00:02\n",
      "   ------------------------------------- -- 6.6/7.0 MB 401.5 kB/s eta 0:00:02\n",
      "   ------------------------------------- -- 6.6/7.0 MB 401.5 kB/s eta 0:00:02\n",
      "   ---------------------------------------  6.8/7.0 MB 364.6 kB/s eta 0:00:01\n",
      "   ---------------------------------------  6.8/7.0 MB 364.6 kB/s eta 0:00:01\n",
      "   ---------------------------------------  6.8/7.0 MB 364.6 kB/s eta 0:00:01\n",
      "   ---------------------------------------- 7.0/7.0 MB 363.4 kB/s eta 0:00:00\n",
      "Installing collected packages: Pillow\n",
      "Successfully installed Pillow-11.3.0\n"
     ]
    }
   ],
   "source": [
    "!pip install Pillow"
   ]
  },
  {
   "cell_type": "code",
   "execution_count": null,
   "id": "0c56756c",
   "metadata": {},
   "outputs": [],
   "source": [
    "import qrcode\n",
    "\n",
    "from PIL import \n",
    "\n",
    "def qrcode_maker(text, filename=\"./public/qr.png\"):\n",
    "    qr = qrcode.make(text)\n",
    "    qr.save(filename)\n",
    "    "
   ]
  },
  {
   "cell_type": "code",
   "execution_count": 28,
   "id": "2059b77c",
   "metadata": {},
   "outputs": [],
   "source": [
    "qrcode_maker(\"안녕하세요. 누구입니다!! qr테스트 중입니다.\")"
   ]
  },
  {
   "cell_type": "markdown",
   "id": "91b04741",
   "metadata": {},
   "source": [
    "# numpy"
   ]
  },
  {
   "cell_type": "markdown",
   "id": "20ca345b",
   "metadata": {},
   "source": [
    "## numpy as np"
   ]
  },
  {
   "cell_type": "code",
   "execution_count": 29,
   "id": "88e3cf50",
   "metadata": {},
   "outputs": [],
   "source": [
    "# numpy\n",
    "\n",
    "import numpy as np\n",
    "data1 = [1,2,3,4,5]\n",
    "data2 = [1,2,3,4,5,6]\n",
    "\n"
   ]
  },
  {
   "cell_type": "code",
   "execution_count": 30,
   "id": "732d2d21",
   "metadata": {},
   "outputs": [
    {
     "data": {
      "text/plain": [
       "([1, 2, 3, 4, 5], [1, 2, 3, 4, 5, 6])"
      ]
     },
     "execution_count": 30,
     "metadata": {},
     "output_type": "execute_result"
    }
   ],
   "source": [
    "data1, data2"
   ]
  },
  {
   "cell_type": "code",
   "execution_count": 31,
   "id": "c2b3e7ad",
   "metadata": {},
   "outputs": [
    {
     "data": {
      "text/plain": [
       "(array([1, 2, 3, 4, 5]), array([1, 2, 3, 4, 5, 6]))"
      ]
     },
     "execution_count": 31,
     "metadata": {},
     "output_type": "execute_result"
    }
   ],
   "source": [
    "arr1 = np.array(data1)\n",
    "arr2 = np.array(data2)\n",
    "arr1, arr2"
   ]
  },
  {
   "cell_type": "code",
   "execution_count": 33,
   "id": "387d6649",
   "metadata": {},
   "outputs": [
    {
     "data": {
      "text/plain": [
       "((5,), dtype('int64'))"
      ]
     },
     "execution_count": 33,
     "metadata": {},
     "output_type": "execute_result"
    }
   ],
   "source": [
    "arr1.shape, arr1.dtype"
   ]
  },
  {
   "cell_type": "code",
   "execution_count": 34,
   "id": "7faaee26",
   "metadata": {},
   "outputs": [
    {
     "data": {
      "text/plain": [
       "array([[1, 2, 3],\n",
       "       [4, 5, 6]])"
      ]
     },
     "execution_count": 34,
     "metadata": {},
     "output_type": "execute_result"
    }
   ],
   "source": [
    "arr3 = np.array([[1,2,3],[4,5,6]])\n",
    "arr3"
   ]
  },
  {
   "cell_type": "code",
   "execution_count": 35,
   "id": "35771e7f",
   "metadata": {},
   "outputs": [
    {
     "data": {
      "text/plain": [
       "((2, 3), dtype('int64'))"
      ]
     },
     "execution_count": 35,
     "metadata": {},
     "output_type": "execute_result"
    }
   ],
   "source": [
    "arr3.shape , arr3.dtype"
   ]
  },
  {
   "cell_type": "code",
   "execution_count": 38,
   "id": "babfd9fc",
   "metadata": {},
   "outputs": [
    {
     "data": {
      "text/plain": [
       "(array([0., 0., 0., 0., 0., 0., 0., 0., 0., 0.]), (10,), dtype('float64'))"
      ]
     },
     "execution_count": 38,
     "metadata": {},
     "output_type": "execute_result"
    }
   ],
   "source": [
    "zz = np.zeros(10)\n",
    "zz, zz.shape, zz.dtype"
   ]
  },
  {
   "cell_type": "code",
   "execution_count": 40,
   "id": "6575a021",
   "metadata": {},
   "outputs": [
    {
     "data": {
      "text/plain": [
       "(array([[0., 0., 0., 0., 0.],\n",
       "        [0., 0., 0., 0., 0.],\n",
       "        [0., 0., 0., 0., 0.]]),\n",
       " (3, 5),\n",
       " dtype('float64'))"
      ]
     },
     "execution_count": 40,
     "metadata": {},
     "output_type": "execute_result"
    }
   ],
   "source": [
    "zzz = np.zeros((3,5))\n",
    "zzz, zzz.shape, zzz.dtype"
   ]
  },
  {
   "cell_type": "code",
   "execution_count": 41,
   "id": "4f71a571",
   "metadata": {},
   "outputs": [
    {
     "data": {
      "text/plain": [
       "(array([1., 1., 1., 1., 1., 1., 1.]), (7,), dtype('float64'))"
      ]
     },
     "execution_count": 41,
     "metadata": {},
     "output_type": "execute_result"
    }
   ],
   "source": [
    "\n",
    "oo = np.ones(7)\n",
    "oo , oo.shape, oo.dtype"
   ]
  },
  {
   "cell_type": "code",
   "execution_count": 42,
   "id": "77da067e",
   "metadata": {},
   "outputs": [
    {
     "data": {
      "text/plain": [
       "(array([[1., 1., 1., 1., 1., 1., 1., 1., 1., 1.],\n",
       "        [1., 1., 1., 1., 1., 1., 1., 1., 1., 1.]]),\n",
       " (2, 10),\n",
       " dtype('float64'))"
      ]
     },
     "execution_count": 42,
     "metadata": {},
     "output_type": "execute_result"
    }
   ],
   "source": [
    "ooo = np.ones((2,10))\n",
    "ooo, ooo.shape, ooo.dtype"
   ]
  },
  {
   "cell_type": "code",
   "execution_count": 43,
   "id": "00eb46b4",
   "metadata": {},
   "outputs": [
    {
     "data": {
      "text/plain": [
       "array([0, 1, 2, 3, 4, 5, 6, 7, 8, 9])"
      ]
     },
     "execution_count": 43,
     "metadata": {},
     "output_type": "execute_result"
    }
   ],
   "source": [
    "np.arange(10)"
   ]
  },
  {
   "cell_type": "code",
   "execution_count": 44,
   "id": "084ea9f0",
   "metadata": {},
   "outputs": [
    {
     "data": {
      "text/plain": [
       "array([ 4,  5,  6,  7,  8,  9, 10, 11])"
      ]
     },
     "execution_count": 44,
     "metadata": {},
     "output_type": "execute_result"
    }
   ],
   "source": [
    "np.arange(4,12)"
   ]
  },
  {
   "cell_type": "markdown",
   "id": "6b3bfad4",
   "metadata": {},
   "source": [
    "## np.Array 연산"
   ]
  },
  {
   "cell_type": "code",
   "execution_count": 46,
   "id": "a1957cf6",
   "metadata": {},
   "outputs": [
    {
     "data": {
      "text/plain": [
       "(array([[1, 2, 3],\n",
       "        [4, 5, 6]]),\n",
       " array([[10, 11, 12],\n",
       "        [13, 14, 15]]))"
      ]
     },
     "execution_count": 46,
     "metadata": {},
     "output_type": "execute_result"
    }
   ],
   "source": [
    "arr1 = np.array([[1,2,3],[4,5,6]])\n",
    "arr2 = np.array([[10,11,12],[13,14,15]])\n",
    "arr1, arr2"
   ]
  },
  {
   "cell_type": "code",
   "execution_count": 47,
   "id": "92f4b5e0",
   "metadata": {},
   "outputs": [
    {
     "data": {
      "text/plain": [
       "((2, 3), dtype('int64'))"
      ]
     },
     "execution_count": 47,
     "metadata": {},
     "output_type": "execute_result"
    }
   ],
   "source": [
    "arr1.shape, arr1.dtype"
   ]
  },
  {
   "cell_type": "code",
   "execution_count": 48,
   "id": "05a1771b",
   "metadata": {},
   "outputs": [
    {
     "name": "stdout",
     "output_type": "stream",
     "text": [
      "(2, 3) int64\n",
      "(2, 3) int64\n"
     ]
    }
   ],
   "source": [
    "print(arr1.shape, arr1.dtype)\n",
    "print(arr2.shape, arr2.dtype)"
   ]
  },
  {
   "cell_type": "code",
   "execution_count": 58,
   "id": "37d1d845",
   "metadata": {},
   "outputs": [
    {
     "name": "stdout",
     "output_type": "stream",
     "text": [
      "[[ 3  6  9]\n",
      " [12 15 18]]\n",
      "[[11 13 15]\n",
      " [17 19 21]]\n",
      "[[-9 -9 -9]\n",
      " [-9 -9 -9]]\n",
      "[[ 1.   2.9  4.8]\n",
      " [ 6.7  8.6 10.5]]\n",
      "[[10 22 36]\n",
      " [52 70 90]]\n",
      "[[0.1        0.18181818 0.25      ]\n",
      " [0.30769231 0.35714286 0.4       ]]\n",
      "[[23 35 47]\n",
      " [26 38 50]]\n",
      "[[ 22  66 132]\n",
      " [ 88 165 264]]\n"
     ]
    }
   ],
   "source": [
    "\n",
    "\n",
    "result0 = arr1*3\n",
    "result1 = arr1 + arr2\n",
    "result2 = arr1 - arr2\n",
    "result3 = arr1*2 - arr2/10\n",
    "result4 = arr1 * arr2\n",
    "result5 = arr1 / arr2\n",
    "\n",
    "print(result0)\n",
    "print(result1)\n",
    "print(result2)\n",
    "print(result3)\n",
    "print(result4)\n",
    "print(result5)\n",
    "\n",
    "# 브로드캐스트 : 같은 크기의 배열을 가지지 않아도 요소별 연산이 가능함\n",
    "arr3 = np.array([22,33,44])\n",
    "print(arr1 + arr3)\n",
    "print(arr1 * arr3)"
   ]
  },
  {
   "cell_type": "code",
   "execution_count": 62,
   "id": "427486f2",
   "metadata": {},
   "outputs": [
    {
     "data": {
      "text/plain": [
       "(array([0, 1, 2, 3, 4]), (5,), dtype('int64'), 5, 1)"
      ]
     },
     "execution_count": 62,
     "metadata": {},
     "output_type": "execute_result"
    }
   ],
   "source": [
    "# 1차원과 속성들\n",
    "# shape : 배열의 차원정보\n",
    "# dtype : 배열 원소의 자료형\n",
    "# size : 배열의 원소 총 개수\n",
    "# ndim : 축의 개수\n",
    "arr = np.arange(5)\n",
    "arr, arr.shape, arr.dtype, arr.size, arr.ndim\n"
   ]
  },
  {
   "cell_type": "code",
   "execution_count": 64,
   "id": "0c3aa7ad",
   "metadata": {},
   "outputs": [
    {
     "name": "stdout",
     "output_type": "stream",
     "text": [
      "[1 2 3 4] int64\n",
      "['1' '2' 'a' 'b'] <U21\n",
      "['1' '2' '3' '4'] <U1\n"
     ]
    }
   ],
   "source": [
    "arr1 = np.array([1,2,3,4])\n",
    "arr2 = np.array([1,2,'a','b'])\n",
    "arr3 = np.array([1,2,3,4], dtype='str')\n",
    "print(arr1, arr1.dtype)\n",
    "print(arr2, arr2.dtype)\n",
    "print(arr3, arr3.dtype)"
   ]
  },
  {
   "cell_type": "code",
   "execution_count": 70,
   "id": "8b746ae1",
   "metadata": {},
   "outputs": [
    {
     "name": "stdout",
     "output_type": "stream",
     "text": [
      "[ 0 16 33 50 66 83]\n",
      "[ 0 20 40 60 80]\n"
     ]
    }
   ],
   "source": [
    "arr4 = np.full((3,3),7)\n",
    "arr4\n",
    "arr5 = np.eye(3)\n",
    "arr5\n",
    "arr6 = np.linspace(0,100,6, endpoint = False, dtype = \"int64\")\n",
    "print(arr6)\n",
    "arr7 = np.arange(0,100,20)\n",
    "print(arr7)\n"
   ]
  },
  {
   "cell_type": "markdown",
   "id": "7c617fb3",
   "metadata": {},
   "source": [
    "## 2차원"
   ]
  },
  {
   "cell_type": "code",
   "execution_count": 83,
   "id": "d3f86151",
   "metadata": {},
   "outputs": [
    {
     "name": "stdout",
     "output_type": "stream",
     "text": [
      "[[1 2 3]\n",
      " [4 5 6]\n",
      " [7 8 9]] (3, 3) 9 int64 2 <class 'numpy.ndarray'>\n",
      "[[ 1  2  3  4  5]\n",
      " [ 6  7  8  9 10]] (2, 5) 10 int64 2 <class 'numpy.ndarray'>\n",
      "[[ 1  2  3  4  5  6]\n",
      " [ 7  8  9 10 11 12]\n",
      " [13 14 15 16 17 18]] (3, 6) 18 int64 2 <class 'numpy.ndarray'>\n"
     ]
    }
   ],
   "source": [
    "try:\n",
    "    arr21 = np.arange(1,10). reshape(3,3)\n",
    "    print(arr21, arr21.shape, arr21.size, arr21.dtype, arr21.ndim, type(arr21))\n",
    "    arr22 = np.arange(1,11).reshape(2,5)\n",
    "    print(arr22, arr22.shape, arr22.size, arr22.dtype, arr22.ndim, type(arr22))\n",
    "    arr23 = np.arange(1,19).reshape(3,6)\n",
    "    print(arr23, arr23.shape, arr23.size, arr23.dtype, arr23.ndim, type(arr23))\n",
    "except ValueError as e:\n",
    "    print(\"차원 사이즈가 맞지 않아요:\",e)\n",
    "    "
   ]
  },
  {
   "cell_type": "code",
   "execution_count": null,
   "id": "792e3fe8",
   "metadata": {},
   "outputs": [],
   "source": [
    "#131231231"
   ]
  }
 ],
 "metadata": {
  "kernelspec": {
   "display_name": "Python 3",
   "language": "python",
   "name": "python3"
  },
  "language_info": {
   "codemirror_mode": {
    "name": "ipython",
    "version": 3
   },
   "file_extension": ".py",
   "mimetype": "text/x-python",
   "name": "python",
   "nbconvert_exporter": "python",
   "pygments_lexer": "ipython3",
   "version": "3.13.3"
  }
 },
 "nbformat": 4,
 "nbformat_minor": 5
}
