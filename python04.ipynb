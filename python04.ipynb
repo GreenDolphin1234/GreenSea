{
 "cells": [
  {
   "cell_type": "markdown",
   "id": "cf52a6e5",
   "metadata": {},
   "source": [
    "## 인덱싱(마스크)"
   ]
  },
  {
   "cell_type": "code",
   "execution_count": 1,
   "id": "4de37b29",
   "metadata": {},
   "outputs": [
    {
     "data": {
      "text/plain": [
       "array([[-1.26918303,  0.4666177 , -0.36304545, -0.28525233],\n",
       "       [ 0.86565891,  0.03568331, -0.77098191, -1.03838217],\n",
       "       [-1.22917047,  0.89962888,  1.56518134,  2.35050805],\n",
       "       [-0.82424624, -0.29745534, -0.55047169,  0.18529624],\n",
       "       [-0.72035546,  0.09962617,  2.1403627 , -1.10917426],\n",
       "       [ 0.25432164,  0.85657637,  1.0656983 , -0.40881191],\n",
       "       [-1.48067813, -2.40930388, -0.1563145 , -1.83770041],\n",
       "       [ 0.96931969, -0.11298378,  0.61133404,  0.61824467]])"
      ]
     },
     "execution_count": 1,
     "metadata": {},
     "output_type": "execute_result"
    }
   ],
   "source": [
    "import numpy as np\n",
    "\n",
    "# 난수 발생\n",
    "\n",
    "ran_data = np.random.randn(8,4)\n",
    "ran_data\n",
    "\n",
    "\n"
   ]
  },
  {
   "cell_type": "code",
   "execution_count": null,
   "id": "2f62229c",
   "metadata": {},
   "outputs": [
    {
     "data": {
      "text/plain": [
       "array([ True, False,  True, False, False,  True,  True, False])"
      ]
     },
     "execution_count": 2,
     "metadata": {},
     "output_type": "execute_result"
    }
   ],
   "source": [
    "mask = np.array([True, False, True, False, False, True, True, False])\n",
    "mask"
   ]
  },
  {
   "cell_type": "code",
   "execution_count": 3,
   "id": "a3666204",
   "metadata": {},
   "outputs": [
    {
     "data": {
      "text/plain": [
       "array([[-1.26918303,  0.4666177 , -0.36304545, -0.28525233],\n",
       "       [-1.22917047,  0.89962888,  1.56518134,  2.35050805],\n",
       "       [ 0.25432164,  0.85657637,  1.0656983 , -0.40881191],\n",
       "       [-1.48067813, -2.40930388, -0.1563145 , -1.83770041]])"
      ]
     },
     "execution_count": 3,
     "metadata": {},
     "output_type": "execute_result"
    }
   ],
   "source": [
    "ran_data[mask]\n"
   ]
  },
  {
   "cell_type": "code",
   "execution_count": 4,
   "id": "cd93cb33",
   "metadata": {},
   "outputs": [
    {
     "data": {
      "text/plain": [
       "array(['apple', 'banana', 'apple', 'kiwi', 'orange', 'apple', 'apple',\n",
       "       'melon'], dtype='<U6')"
      ]
     },
     "execution_count": 4,
     "metadata": {},
     "output_type": "execute_result"
    }
   ],
   "source": [
    "fruit = np.array(['apple', 'banana', 'apple', 'kiwi', 'orange', 'apple', 'apple', 'melon'])\n",
    "fruit"
   ]
  },
  {
   "cell_type": "code",
   "execution_count": 5,
   "id": "8e3065ec",
   "metadata": {},
   "outputs": [
    {
     "data": {
      "text/plain": [
       "array([ True, False,  True, False, False,  True,  True, False])"
      ]
     },
     "execution_count": 5,
     "metadata": {},
     "output_type": "execute_result"
    }
   ],
   "source": [
    "fruit_mask = (fruit == 'apple')\n",
    "fruit_mask"
   ]
  },
  {
   "cell_type": "code",
   "execution_count": 6,
   "id": "0efac705",
   "metadata": {},
   "outputs": [
    {
     "data": {
      "text/plain": [
       "array([[-1.26918303,  0.4666177 , -0.36304545, -0.28525233],\n",
       "       [-1.22917047,  0.89962888,  1.56518134,  2.35050805],\n",
       "       [ 0.25432164,  0.85657637,  1.0656983 , -0.40881191],\n",
       "       [-1.48067813, -2.40930388, -0.1563145 , -1.83770041]])"
      ]
     },
     "execution_count": 6,
     "metadata": {},
     "output_type": "execute_result"
    }
   ],
   "source": [
    "ran_data[fruit_mask]"
   ]
  },
  {
   "cell_type": "code",
   "execution_count": 12,
   "id": "3d4412b2",
   "metadata": {},
   "outputs": [
    {
     "data": {
      "text/plain": [
       "array([[ 0.4666177 , -0.36304545],\n",
       "       [ 0.89962888,  1.56518134],\n",
       "       [ 0.09962617,  2.1403627 ],\n",
       "       [ 0.85657637,  1.0656983 ],\n",
       "       [-2.40930388, -0.1563145 ]])"
      ]
     },
     "execution_count": 12,
     "metadata": {},
     "output_type": "execute_result"
    }
   ],
   "source": [
    "ran_data[(fruit == 'apple')|(fruit == 'orange'),1:3] # ran_data[행, 열]"
   ]
  },
  {
   "cell_type": "markdown",
   "id": "734d203b",
   "metadata": {},
   "source": [
    "## 인덱스(마스크) 응용"
   ]
  },
  {
   "cell_type": "code",
   "execution_count": 15,
   "id": "7ba5c4c8",
   "metadata": {},
   "outputs": [
    {
     "data": {
      "text/plain": [
       "array([False,  True, False, False, False,  True, False,  True])"
      ]
     },
     "execution_count": 15,
     "metadata": {},
     "output_type": "execute_result"
    }
   ],
   "source": [
    "ran_data[:,0] > 0"
   ]
  },
  {
   "cell_type": "code",
   "execution_count": 16,
   "id": "0075f2d0",
   "metadata": {},
   "outputs": [
    {
     "data": {
      "text/plain": [
       "array([0.4666177 , 0.86565891, 0.03568331, 0.89962888, 1.56518134,\n",
       "       2.35050805, 0.18529624, 0.09962617, 2.1403627 , 0.25432164,\n",
       "       0.85657637, 1.0656983 , 0.96931969, 0.61133404, 0.61824467])"
      ]
     },
     "execution_count": 16,
     "metadata": {},
     "output_type": "execute_result"
    }
   ],
   "source": [
    "ran_data[ran_data[:,:]>0]"
   ]
  },
  {
   "cell_type": "code",
   "execution_count": 19,
   "id": "beb37edc",
   "metadata": {},
   "outputs": [
    {
     "data": {
      "text/plain": [
       "array([[-1.26918303,  0.4666177 , -0.36304545, -0.28525233],\n",
       "       [-1.22917047,  0.89962888,  1.56518134,  2.35050805],\n",
       "       [-0.82424624, -0.29745534, -0.55047169,  0.18529624],\n",
       "       [-0.72035546,  0.09962617,  2.1403627 , -1.10917426],\n",
       "       [-1.48067813, -2.40930388, -0.1563145 , -1.83770041]])"
      ]
     },
     "execution_count": 19,
     "metadata": {},
     "output_type": "execute_result"
    }
   ],
   "source": [
    "ran_data[ran_data[:,0] < 0 ]"
   ]
  },
  {
   "cell_type": "markdown",
   "id": "00672d1a",
   "metadata": {},
   "source": [
    "## 문제1"
   ]
  },
  {
   "cell_type": "code",
   "execution_count": null,
   "id": "342cb791",
   "metadata": {},
   "outputs": [
    {
     "data": {
      "text/plain": [
       "array([[ 0.4666177 , -0.36304545],\n",
       "       [ 0.89962888,  1.56518134],\n",
       "       [-0.29745534, -0.55047169],\n",
       "       [ 0.09962617,  2.1403627 ],\n",
       "       [-2.40930388, -0.1563145 ]])"
      ]
     },
     "execution_count": 30,
     "metadata": {},
     "output_type": "execute_result"
    }
   ],
   "source": [
    "ran_data[ran_data[:,0] < 0,][:, [1,2]]\n"
   ]
  },
  {
   "cell_type": "markdown",
   "id": "c2e2f1ee",
   "metadata": {},
   "source": [
    "## 문제2"
   ]
  },
  {
   "cell_type": "code",
   "execution_count": 52,
   "id": "0772b287",
   "metadata": {},
   "outputs": [
    {
     "data": {
      "text/plain": [
       "array([[ 0.1757241 , -0.48099823,  1.1436474 ,  0.09570175],\n",
       "       [ 1.08111708, -1.48794278, -0.60627501, -0.01428676],\n",
       "       [-0.62710964, -0.38261871,         nan,         nan],\n",
       "       [-0.47362162,  0.44488601,         nan,         nan],\n",
       "       [ 0.520471  ,  0.79505112, -1.27126045, -1.72801788],\n",
       "       [ 1.27691834,  0.2782737 , -2.09007835,  0.26922997],\n",
       "       [-0.05253913,  0.23795888,         nan,         nan],\n",
       "       [ 1.70807179,  0.51930956, -0.91909532,  0.66727841]])"
      ]
     },
     "execution_count": 52,
     "metadata": {},
     "output_type": "execute_result"
    }
   ],
   "source": [
    "ran_data = np.random.randn(8,4)\n",
    "ran_data[ran_data[:,0] < 0,2:4] = np.nan\n",
    "ran_data"
   ]
  },
  {
   "cell_type": "code",
   "execution_count": 61,
   "id": "7eaa2168",
   "metadata": {},
   "outputs": [
    {
     "data": {
      "text/plain": [
       "array([[ 0.1757241 , -0.48099823,  1.1436474 ,  0.09570175],\n",
       "       [ 1.08111708, -1.48794278, -0.60627501, -0.01428676],\n",
       "       [ 0.520471  ,  0.79505112, -1.27126045, -1.72801788],\n",
       "       [ 1.27691834,  0.2782737 , -2.09007835,  0.26922997],\n",
       "       [ 1.70807179,  0.51930956, -0.91909532,  0.66727841]])"
      ]
     },
     "execution_count": 61,
     "metadata": {},
     "output_type": "execute_result"
    }
   ],
   "source": [
    "fix_data =ran_data[~np.isnan(ran_data).any(axis=1)]\n",
    "#ran_data == 'nan'\n",
    "fix_data "
   ]
  },
  {
   "cell_type": "code",
   "execution_count": 63,
   "id": "b861ac94",
   "metadata": {},
   "outputs": [
    {
     "data": {
      "text/plain": [
       "array([[0.1757241 , 0.48099823, 1.1436474 , 0.09570175],\n",
       "       [1.08111708, 1.48794278, 0.60627501, 0.01428676],\n",
       "       [0.520471  , 0.79505112, 1.27126045, 1.72801788],\n",
       "       [1.27691834, 0.2782737 , 2.09007835, 0.26922997],\n",
       "       [1.70807179, 0.51930956, 0.91909532, 0.66727841]])"
      ]
     },
     "execution_count": 63,
     "metadata": {},
     "output_type": "execute_result"
    }
   ],
   "source": [
    "fix_data2 = np.abs(fix_data)\n",
    "fix_data2"
   ]
  },
  {
   "cell_type": "code",
   "execution_count": 64,
   "id": "35ed422a",
   "metadata": {},
   "outputs": [
    {
     "data": {
      "text/plain": [
       "array([[0.41919458, 0.69354036, 1.06941451, 0.309357  ],\n",
       "       [1.0397678 , 1.2198126 , 0.77863663, 0.11952722],\n",
       "       [0.72143676, 0.89165639, 1.12750186, 1.31454094],\n",
       "       [1.13000811, 0.52751654, 1.44571033, 0.51887375],\n",
       "       [1.30693221, 0.72063136, 0.95869459, 0.81687111]])"
      ]
     },
     "execution_count": 64,
     "metadata": {},
     "output_type": "execute_result"
    }
   ],
   "source": [
    "fix_data3 = np.sqrt(fix_data2)\n",
    "fix_data3"
   ]
  },
  {
   "cell_type": "code",
   "execution_count": null,
   "id": "3c8d30ba",
   "metadata": {},
   "outputs": [
    {
     "data": {
      "text/plain": [
       "array([[-0.86942006, -0.36594585,  0.06711132, -1.17325932],\n",
       "       [ 0.03899742,  0.19869724, -0.25021079, -2.12421117],\n",
       "       [-0.32651055, -0.11467443,  0.12000444,  0.27348751],\n",
       "       [ 0.12222481, -0.63957505,  0.36860078, -0.65609469],\n",
       "       [ 0.26768256, -0.32762756, -0.04218272, -0.20227395]])"
      ]
     },
     "execution_count": 66,
     "metadata": {},
     "output_type": "execute_result"
    }
   ],
   "source": [
    "fix_data4 = np.log(fix_data3)\n",
    "fix_data4"
   ]
  },
  {
   "cell_type": "code",
   "execution_count": 68,
   "id": "be4960cd",
   "metadata": {},
   "outputs": [
    {
     "data": {
      "text/plain": [
       "array([[-1., -1.,  1., -1.],\n",
       "       [ 1.,  1., -1., -1.],\n",
       "       [-1., -1.,  1.,  1.],\n",
       "       [ 1., -1.,  1., -1.],\n",
       "       [ 1., -1., -1., -1.]])"
      ]
     },
     "execution_count": 68,
     "metadata": {},
     "output_type": "execute_result"
    }
   ],
   "source": [
    "np.sign(fix_data4)"
   ]
  },
  {
   "cell_type": "code",
   "execution_count": null,
   "id": "a210ee4d",
   "metadata": {},
   "outputs": [
    {
     "data": {
      "text/plain": [
       "array([[ 0.6452697 ,  0.93378572,  0.99774888,  0.38714859],\n",
       "       [ 0.9992397 ,  0.98032456,  0.96886025, -0.52559541],\n",
       "       [ 0.94716731,  0.99343209,  0.9928081 ,  0.96283481],\n",
       "       [ 0.99253984,  0.80234946,  0.93283241,  0.79238061],\n",
       "       [ 0.96438644,  0.94680845,  0.99911044,  0.97961228]])"
      ]
     },
     "execution_count": 69,
     "metadata": {},
     "output_type": "execute_result"
    }
   ],
   "source": [
    "# 삼각함수(cos, cosh, sin, sinh, tan, tanh)\n",
    "np.cos(fix_data4)"
   ]
  },
  {
   "cell_type": "code",
   "execution_count": 74,
   "id": "dc534a45",
   "metadata": {},
   "outputs": [
    {
     "data": {
      "text/plain": [
       "(array([[ 1.33102922, -0.20551087,  0.22713   , -1.54904131],\n",
       "        [ 0.47053105, -1.25085822, -1.50997674, -1.17595742],\n",
       "        [-0.49609743,  0.20877388,  0.54970159,  0.44493783],\n",
       "        [ 1.62074778,  0.09774663, -0.68665672, -0.16696969],\n",
       "        [ 0.11616947,  0.2404228 ,  0.91196531,  0.67085757],\n",
       "        [-0.82560961,  0.18044199, -1.13074091, -0.69129261],\n",
       "        [ 0.85565349,  0.87871009, -0.4746898 ,  0.6172986 ],\n",
       "        [ 2.49355931, -1.55730088,  0.92673978,  0.92925857]]),\n",
       " array([[ 0.7096936 , -0.38130429,  1.14059738,  0.02623514],\n",
       "        [-0.47667779, -0.5542285 , -0.45759121, -0.1271713 ],\n",
       "        [-0.92672566, -0.52939004,  1.24283457,  0.47764201],\n",
       "        [ 0.61511889, -0.96875674, -0.71363496, -0.76037105],\n",
       "        [-0.91632217, -0.68702065, -0.54699632, -1.02146291],\n",
       "        [ 2.79301871,  0.13510335, -0.89723993,  0.70753856],\n",
       "        [-2.47221473,  1.16982045,  1.06231528,  0.10275284],\n",
       "        [-1.73410701, -1.43774232,  1.93280566,  0.63586572]]))"
      ]
     },
     "execution_count": 74,
     "metadata": {},
     "output_type": "execute_result"
    }
   ],
   "source": [
    "# 두 개의 array에 동일한 위치의 요소끼리 비교\n",
    "data1 = np.random.randn(8,4)\n",
    "data2 = np.random.randn(8,4)\n",
    "data1, data2\n"
   ]
  },
  {
   "cell_type": "code",
   "execution_count": 75,
   "id": "5332a416",
   "metadata": {},
   "outputs": [
    {
     "data": {
      "text/plain": [
       "array([[ 1.33102922, -0.20551087,  1.14059738,  0.02623514],\n",
       "       [ 0.47053105, -0.5542285 , -0.45759121, -0.1271713 ],\n",
       "       [-0.49609743,  0.20877388,  1.24283457,  0.47764201],\n",
       "       [ 1.62074778,  0.09774663, -0.68665672, -0.16696969],\n",
       "       [ 0.11616947,  0.2404228 ,  0.91196531,  0.67085757],\n",
       "       [ 2.79301871,  0.18044199, -0.89723993,  0.70753856],\n",
       "       [ 0.85565349,  1.16982045,  1.06231528,  0.6172986 ],\n",
       "       [ 2.49355931, -1.43774232,  1.93280566,  0.92925857]])"
      ]
     },
     "execution_count": 75,
     "metadata": {},
     "output_type": "execute_result"
    }
   ],
   "source": [
    "np.maximum(data1, data2)"
   ]
  },
  {
   "cell_type": "code",
   "execution_count": 76,
   "id": "e51a7318",
   "metadata": {},
   "outputs": [
    {
     "data": {
      "text/plain": [
       "array([[ 0.7096936 , -0.38130429,  0.22713   , -1.54904131],\n",
       "       [-0.47667779, -1.25085822, -1.50997674, -1.17595742],\n",
       "       [-0.92672566, -0.52939004,  0.54970159,  0.44493783],\n",
       "       [ 0.61511889, -0.96875674, -0.71363496, -0.76037105],\n",
       "       [-0.91632217, -0.68702065, -0.54699632, -1.02146291],\n",
       "       [-0.82560961,  0.13510335, -1.13074091, -0.69129261],\n",
       "       [-2.47221473,  0.87871009, -0.4746898 ,  0.10275284],\n",
       "       [-1.73410701, -1.55730088,  0.92673978,  0.63586572]])"
      ]
     },
     "execution_count": 76,
     "metadata": {},
     "output_type": "execute_result"
    }
   ],
   "source": [
    "np.minimum(data1, data2)"
   ]
  },
  {
   "cell_type": "code",
   "execution_count": 77,
   "id": "d3261160",
   "metadata": {},
   "outputs": [
    {
     "data": {
      "text/plain": [
       "array([[1.33102922, 0.        , 0.22713   , 0.        ],\n",
       "       [0.47053105, 0.        , 0.        , 0.        ],\n",
       "       [0.        , 0.20877388, 0.54970159, 0.44493783],\n",
       "       [1.62074778, 0.09774663, 0.        , 0.        ],\n",
       "       [0.11616947, 0.2404228 , 0.91196531, 0.67085757],\n",
       "       [0.        , 0.18044199, 0.        , 0.        ],\n",
       "       [0.85565349, 0.87871009, 0.        , 0.6172986 ],\n",
       "       [2.49355931, 0.        , 0.92673978, 0.92925857]])"
      ]
     },
     "execution_count": 77,
     "metadata": {},
     "output_type": "execute_result"
    }
   ],
   "source": [
    "np.maximum(data1, 0) # ReLU(x) 같다."
   ]
  },
  {
   "cell_type": "code",
   "execution_count": 78,
   "id": "2e87d761",
   "metadata": {},
   "outputs": [
    {
     "data": {
      "text/plain": [
       "array([[0.7096936 , 0.5       , 1.14059738, 0.5       ],\n",
       "       [0.5       , 0.5       , 0.5       , 0.5       ],\n",
       "       [0.5       , 0.5       , 1.24283457, 0.5       ],\n",
       "       [0.61511889, 0.5       , 0.5       , 0.5       ],\n",
       "       [0.5       , 0.5       , 0.5       , 0.5       ],\n",
       "       [1.7       , 0.5       , 0.5       , 0.70753856],\n",
       "       [0.5       , 1.16982045, 1.06231528, 0.5       ],\n",
       "       [0.5       , 0.5       , 1.7       , 0.63586572]])"
      ]
     },
     "execution_count": 78,
     "metadata": {},
     "output_type": "execute_result"
    }
   ],
   "source": [
    "np.minimum(np.maximum(data2,0.5),1.7)"
   ]
  },
  {
   "cell_type": "markdown",
   "id": "1f2f29c2",
   "metadata": {},
   "source": [
    "## 통계함수"
   ]
  },
  {
   "cell_type": "code",
   "execution_count": 79,
   "id": "64cc6475",
   "metadata": {},
   "outputs": [
    {
     "data": {
      "text/plain": [
       "array([[ 1.96001427, -0.45933883, -0.2464668 ,  0.02844962],\n",
       "       [-0.84509548,  1.29444985,  1.05888102,  0.52776988],\n",
       "       [-1.38856578, -1.75597234, -1.10763096,  1.50190207],\n",
       "       [-1.20432321, -0.86626705, -1.18577128,  0.22654363]])"
      ]
     },
     "execution_count": 79,
     "metadata": {},
     "output_type": "execute_result"
    }
   ],
   "source": [
    "data = np.random.randn(4,4)\n",
    "data"
   ]
  },
  {
   "cell_type": "code",
   "execution_count": 80,
   "id": "258c489b",
   "metadata": {},
   "outputs": [
    {
     "data": {
      "text/plain": [
       "np.float64(-2.461421397634738)"
      ]
     },
     "execution_count": 80,
     "metadata": {},
     "output_type": "execute_result"
    }
   ],
   "source": [
    "np.sum(data)"
   ]
  },
  {
   "cell_type": "code",
   "execution_count": 81,
   "id": "5aff76f6",
   "metadata": {},
   "outputs": [
    {
     "data": {
      "text/plain": [
       "array([ 1.28265825,  2.03600527, -2.75026702, -3.02981791])"
      ]
     },
     "execution_count": 81,
     "metadata": {},
     "output_type": "execute_result"
    }
   ],
   "source": [
    "np.sum(data, axis = 1)"
   ]
  },
  {
   "cell_type": "code",
   "execution_count": 82,
   "id": "18f7ce3d",
   "metadata": {},
   "outputs": [
    {
     "data": {
      "text/plain": [
       "array([-1.4779702 , -1.78712837, -1.48098803,  2.2846652 ])"
      ]
     },
     "execution_count": 82,
     "metadata": {},
     "output_type": "execute_result"
    }
   ],
   "source": [
    "np.sum(data, axis = 0)"
   ]
  },
  {
   "cell_type": "code",
   "execution_count": 83,
   "id": "bcf46017",
   "metadata": {},
   "outputs": [
    {
     "data": {
      "text/plain": [
       "array([-0.70580563,  2.35333087, -2.8636033 , -2.05203833])"
      ]
     },
     "execution_count": 83,
     "metadata": {},
     "output_type": "execute_result"
    }
   ],
   "source": [
    "np.sum(data[:,1:3], axis = 1)"
   ]
  },
  {
   "cell_type": "code",
   "execution_count": 84,
   "id": "e04ffe5c",
   "metadata": {},
   "outputs": [
    {
     "data": {
      "text/plain": [
       "array([-1.78712837, -1.48098803,  2.2846652 ])"
      ]
     },
     "execution_count": 84,
     "metadata": {},
     "output_type": "execute_result"
    }
   ],
   "source": [
    "np.sum(data[:,1:], axis = 0)"
   ]
  },
  {
   "cell_type": "code",
   "execution_count": 85,
   "id": "e7d9b34c",
   "metadata": {},
   "outputs": [
    {
     "data": {
      "text/plain": [
       "array([[ 0.68128626, -0.74306326,  2.4752447 ,  0.54168534, -1.42326612],\n",
       "       [-1.06125575,  0.92273106, -1.64196633,  0.17379234, -0.72945649],\n",
       "       [ 0.41007111,  2.07108525,  0.1148141 , -0.78054277,  0.08509502]])"
      ]
     },
     "execution_count": 85,
     "metadata": {},
     "output_type": "execute_result"
    }
   ],
   "source": [
    "data2 = np.random.randn(3,5)\n",
    "data2"
   ]
  },
  {
   "cell_type": "code",
   "execution_count": 87,
   "id": "028ef2c0",
   "metadata": {},
   "outputs": [
    {
     "data": {
      "text/plain": [
       "np.float64(0.07308363105795969)"
      ]
     },
     "execution_count": 87,
     "metadata": {},
     "output_type": "execute_result"
    }
   ],
   "source": [
    "np.mean(data2)"
   ]
  },
  {
   "cell_type": "code",
   "execution_count": 88,
   "id": "0e92a62a",
   "metadata": {},
   "outputs": [
    {
     "data": {
      "text/plain": [
       "array([ 0.01003387,  0.75025102,  0.31603082, -0.02168836, -0.68920919])"
      ]
     },
     "execution_count": 88,
     "metadata": {},
     "output_type": "execute_result"
    }
   ],
   "source": [
    "np.mean(data2, axis = 0)"
   ]
  },
  {
   "cell_type": "code",
   "execution_count": 89,
   "id": "a24b7a96",
   "metadata": {},
   "outputs": [
    {
     "data": {
      "text/plain": [
       "array([ 0.30637738, -0.46723103,  0.38010454])"
      ]
     },
     "execution_count": 89,
     "metadata": {},
     "output_type": "execute_result"
    }
   ],
   "source": [
    "np.mean(data2, axis = 1)"
   ]
  },
  {
   "cell_type": "code",
   "execution_count": 90,
   "id": "3093dea2",
   "metadata": {},
   "outputs": [
    {
     "data": {
      "text/plain": [
       "np.float64(-1.6419663327585756)"
      ]
     },
     "execution_count": 90,
     "metadata": {},
     "output_type": "execute_result"
    }
   ],
   "source": [
    "np.min(data2)"
   ]
  },
  {
   "cell_type": "code",
   "execution_count": 91,
   "id": "ce7232b5",
   "metadata": {},
   "outputs": [
    {
     "data": {
      "text/plain": [
       "array([-1.42326612, -1.64196633, -0.78054277])"
      ]
     },
     "execution_count": 91,
     "metadata": {},
     "output_type": "execute_result"
    }
   ],
   "source": [
    "# 요소의 가장 작은 값 구하기, 반대는 max\n",
    "np.min(data2, axis = 1)"
   ]
  },
  {
   "cell_type": "code",
   "execution_count": 92,
   "id": "050493bf",
   "metadata": {},
   "outputs": [
    {
     "data": {
      "text/plain": [
       "np.float64(1.313693647302103)"
      ]
     },
     "execution_count": 92,
     "metadata": {},
     "output_type": "execute_result"
    }
   ],
   "source": [
    "# 분산계산\n",
    "np.var(data2)\n"
   ]
  },
  {
   "cell_type": "code",
   "execution_count": 93,
   "id": "01da62db",
   "metadata": {},
   "outputs": [
    {
     "data": {
      "text/plain": [
       "array([[-1.42326612, -0.74306326,  0.54168534,  0.68128626,  2.4752447 ],\n",
       "       [-1.64196633, -1.06125575, -0.72945649,  0.17379234,  0.92273106],\n",
       "       [-0.78054277,  0.08509502,  0.1148141 ,  0.41007111,  2.07108525]])"
      ]
     },
     "execution_count": 93,
     "metadata": {},
     "output_type": "execute_result"
    }
   ],
   "source": [
    "np.sort(data2)"
   ]
  },
  {
   "cell_type": "code",
   "execution_count": 94,
   "id": "7774f2b6",
   "metadata": {},
   "outputs": [
    {
     "data": {
      "text/plain": [
       "array([[-0.78054277,  0.08509502,  0.1148141 ,  0.41007111,  2.07108525],\n",
       "       [-1.64196633, -1.06125575, -0.72945649,  0.17379234,  0.92273106],\n",
       "       [-1.42326612, -0.74306326,  0.54168534,  0.68128626,  2.4752447 ]])"
      ]
     },
     "execution_count": 94,
     "metadata": {},
     "output_type": "execute_result"
    }
   ],
   "source": [
    "np.sort(data2)[::-1]"
   ]
  },
  {
   "cell_type": "code",
   "execution_count": 95,
   "id": "07493472",
   "metadata": {},
   "outputs": [
    {
     "data": {
      "text/plain": [
       "array([[-1.06125575, -0.74306326, -1.64196633, -0.78054277, -1.42326612],\n",
       "       [ 0.41007111,  0.92273106,  0.1148141 ,  0.17379234, -0.72945649],\n",
       "       [ 0.68128626,  2.07108525,  2.4752447 ,  0.54168534,  0.08509502]])"
      ]
     },
     "execution_count": 95,
     "metadata": {},
     "output_type": "execute_result"
    }
   ],
   "source": [
    "np.sort(data2, axis = 0)"
   ]
  },
  {
   "cell_type": "code",
   "execution_count": null,
   "id": "fc077b04",
   "metadata": {},
   "outputs": [],
   "source": []
  }
 ],
 "metadata": {
  "kernelspec": {
   "display_name": "Python 3",
   "language": "python",
   "name": "python3"
  },
  "language_info": {
   "codemirror_mode": {
    "name": "ipython",
    "version": 3
   },
   "file_extension": ".py",
   "mimetype": "text/x-python",
   "name": "python",
   "nbconvert_exporter": "python",
   "pygments_lexer": "ipython3",
   "version": "3.13.3"
  }
 },
 "nbformat": 4,
 "nbformat_minor": 5
}
