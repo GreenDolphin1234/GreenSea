{
 "cells": [
  {
   "cell_type": "markdown",
   "id": "cf52a6e5",
   "metadata": {},
   "source": [
    "## 인덱싱(마스크)"
   ]
  },
  {
   "cell_type": "code",
   "execution_count": 1,
   "id": "4de37b29",
   "metadata": {},
   "outputs": [
    {
     "data": {
      "text/plain": [
       "array([[-1.26918303,  0.4666177 , -0.36304545, -0.28525233],\n",
       "       [ 0.86565891,  0.03568331, -0.77098191, -1.03838217],\n",
       "       [-1.22917047,  0.89962888,  1.56518134,  2.35050805],\n",
       "       [-0.82424624, -0.29745534, -0.55047169,  0.18529624],\n",
       "       [-0.72035546,  0.09962617,  2.1403627 , -1.10917426],\n",
       "       [ 0.25432164,  0.85657637,  1.0656983 , -0.40881191],\n",
       "       [-1.48067813, -2.40930388, -0.1563145 , -1.83770041],\n",
       "       [ 0.96931969, -0.11298378,  0.61133404,  0.61824467]])"
      ]
     },
     "execution_count": 1,
     "metadata": {},
     "output_type": "execute_result"
    }
   ],
   "source": [
    "import numpy as np\n",
    "\n",
    "# 난수 발생\n",
    "\n",
    "ran_data = np.random.randn(8,4)\n",
    "ran_data\n",
    "\n",
    "\n"
   ]
  },
  {
   "cell_type": "code",
   "execution_count": null,
   "id": "2f62229c",
   "metadata": {},
   "outputs": [
    {
     "data": {
      "text/plain": [
       "array([ True, False,  True, False, False,  True,  True, False])"
      ]
     },
     "execution_count": 2,
     "metadata": {},
     "output_type": "execute_result"
    }
   ],
   "source": [
    "mask = np.array([True, False, True, False, False, True, True, False])\n",
    "mask"
   ]
  },
  {
   "cell_type": "code",
   "execution_count": 3,
   "id": "a3666204",
   "metadata": {},
   "outputs": [
    {
     "data": {
      "text/plain": [
       "array([[-1.26918303,  0.4666177 , -0.36304545, -0.28525233],\n",
       "       [-1.22917047,  0.89962888,  1.56518134,  2.35050805],\n",
       "       [ 0.25432164,  0.85657637,  1.0656983 , -0.40881191],\n",
       "       [-1.48067813, -2.40930388, -0.1563145 , -1.83770041]])"
      ]
     },
     "execution_count": 3,
     "metadata": {},
     "output_type": "execute_result"
    }
   ],
   "source": [
    "ran_data[mask]\n"
   ]
  },
  {
   "cell_type": "code",
   "execution_count": 4,
   "id": "cd93cb33",
   "metadata": {},
   "outputs": [
    {
     "data": {
      "text/plain": [
       "array(['apple', 'banana', 'apple', 'kiwi', 'orange', 'apple', 'apple',\n",
       "       'melon'], dtype='<U6')"
      ]
     },
     "execution_count": 4,
     "metadata": {},
     "output_type": "execute_result"
    }
   ],
   "source": [
    "fruit = np.array(['apple', 'banana', 'apple', 'kiwi', 'orange', 'apple', 'apple', 'melon'])\n",
    "fruit"
   ]
  },
  {
   "cell_type": "code",
   "execution_count": 5,
   "id": "8e3065ec",
   "metadata": {},
   "outputs": [
    {
     "data": {
      "text/plain": [
       "array([ True, False,  True, False, False,  True,  True, False])"
      ]
     },
     "execution_count": 5,
     "metadata": {},
     "output_type": "execute_result"
    }
   ],
   "source": [
    "fruit_mask = (fruit == 'apple')\n",
    "fruit_mask"
   ]
  },
  {
   "cell_type": "code",
   "execution_count": 6,
   "id": "0efac705",
   "metadata": {},
   "outputs": [
    {
     "data": {
      "text/plain": [
       "array([[-1.26918303,  0.4666177 , -0.36304545, -0.28525233],\n",
       "       [-1.22917047,  0.89962888,  1.56518134,  2.35050805],\n",
       "       [ 0.25432164,  0.85657637,  1.0656983 , -0.40881191],\n",
       "       [-1.48067813, -2.40930388, -0.1563145 , -1.83770041]])"
      ]
     },
     "execution_count": 6,
     "metadata": {},
     "output_type": "execute_result"
    }
   ],
   "source": [
    "ran_data[fruit_mask]"
   ]
  },
  {
   "cell_type": "code",
   "execution_count": 12,
   "id": "3d4412b2",
   "metadata": {},
   "outputs": [
    {
     "data": {
      "text/plain": [
       "array([[ 0.4666177 , -0.36304545],\n",
       "       [ 0.89962888,  1.56518134],\n",
       "       [ 0.09962617,  2.1403627 ],\n",
       "       [ 0.85657637,  1.0656983 ],\n",
       "       [-2.40930388, -0.1563145 ]])"
      ]
     },
     "execution_count": 12,
     "metadata": {},
     "output_type": "execute_result"
    }
   ],
   "source": [
    "ran_data[(fruit == 'apple')|(fruit == 'orange'),1:3] # ran_data[행, 열]"
   ]
  },
  {
   "cell_type": "markdown",
   "id": "734d203b",
   "metadata": {},
   "source": [
    "## 인덱스(마스크) 응용"
   ]
  },
  {
   "cell_type": "code",
   "execution_count": 15,
   "id": "7ba5c4c8",
   "metadata": {},
   "outputs": [
    {
     "data": {
      "text/plain": [
       "array([False,  True, False, False, False,  True, False,  True])"
      ]
     },
     "execution_count": 15,
     "metadata": {},
     "output_type": "execute_result"
    }
   ],
   "source": [
    "ran_data[:,0] > 0"
   ]
  },
  {
   "cell_type": "code",
   "execution_count": 16,
   "id": "0075f2d0",
   "metadata": {},
   "outputs": [
    {
     "data": {
      "text/plain": [
       "array([0.4666177 , 0.86565891, 0.03568331, 0.89962888, 1.56518134,\n",
       "       2.35050805, 0.18529624, 0.09962617, 2.1403627 , 0.25432164,\n",
       "       0.85657637, 1.0656983 , 0.96931969, 0.61133404, 0.61824467])"
      ]
     },
     "execution_count": 16,
     "metadata": {},
     "output_type": "execute_result"
    }
   ],
   "source": [
    "ran_data[ran_data[:,:]>0]"
   ]
  },
  {
   "cell_type": "code",
   "execution_count": 19,
   "id": "beb37edc",
   "metadata": {},
   "outputs": [
    {
     "data": {
      "text/plain": [
       "array([[-1.26918303,  0.4666177 , -0.36304545, -0.28525233],\n",
       "       [-1.22917047,  0.89962888,  1.56518134,  2.35050805],\n",
       "       [-0.82424624, -0.29745534, -0.55047169,  0.18529624],\n",
       "       [-0.72035546,  0.09962617,  2.1403627 , -1.10917426],\n",
       "       [-1.48067813, -2.40930388, -0.1563145 , -1.83770041]])"
      ]
     },
     "execution_count": 19,
     "metadata": {},
     "output_type": "execute_result"
    }
   ],
   "source": [
    "ran_data[ran_data[:,0] < 0 ]"
   ]
  },
  {
   "cell_type": "markdown",
   "id": "00672d1a",
   "metadata": {},
   "source": [
    "## 문제1"
   ]
  },
  {
   "cell_type": "code",
   "execution_count": null,
   "id": "342cb791",
   "metadata": {},
   "outputs": [
    {
     "data": {
      "text/plain": [
       "array([[ 0.4666177 , -0.36304545],\n",
       "       [ 0.89962888,  1.56518134],\n",
       "       [-0.29745534, -0.55047169],\n",
       "       [ 0.09962617,  2.1403627 ],\n",
       "       [-2.40930388, -0.1563145 ]])"
      ]
     },
     "execution_count": 30,
     "metadata": {},
     "output_type": "execute_result"
    }
   ],
   "source": [
    "ran_data[ran_data[:,0] < 0,][:, [1,2]]\n"
   ]
  },
  {
   "cell_type": "markdown",
   "id": "c2e2f1ee",
   "metadata": {},
   "source": [
    "## 문제2"
   ]
  },
  {
   "cell_type": "code",
   "execution_count": 52,
   "id": "0772b287",
   "metadata": {},
   "outputs": [
    {
     "data": {
      "text/plain": [
       "array([[ 0.1757241 , -0.48099823,  1.1436474 ,  0.09570175],\n",
       "       [ 1.08111708, -1.48794278, -0.60627501, -0.01428676],\n",
       "       [-0.62710964, -0.38261871,         nan,         nan],\n",
       "       [-0.47362162,  0.44488601,         nan,         nan],\n",
       "       [ 0.520471  ,  0.79505112, -1.27126045, -1.72801788],\n",
       "       [ 1.27691834,  0.2782737 , -2.09007835,  0.26922997],\n",
       "       [-0.05253913,  0.23795888,         nan,         nan],\n",
       "       [ 1.70807179,  0.51930956, -0.91909532,  0.66727841]])"
      ]
     },
     "execution_count": 52,
     "metadata": {},
     "output_type": "execute_result"
    }
   ],
   "source": [
    "ran_data = np.random.randn(8,4)\n",
    "ran_data[ran_data[:,0] < 0,2:4] = np.nan\n",
    "ran_data"
   ]
  },
  {
   "cell_type": "code",
   "execution_count": 61,
   "id": "7eaa2168",
   "metadata": {},
   "outputs": [
    {
     "data": {
      "text/plain": [
       "array([[ 0.1757241 , -0.48099823,  1.1436474 ,  0.09570175],\n",
       "       [ 1.08111708, -1.48794278, -0.60627501, -0.01428676],\n",
       "       [ 0.520471  ,  0.79505112, -1.27126045, -1.72801788],\n",
       "       [ 1.27691834,  0.2782737 , -2.09007835,  0.26922997],\n",
       "       [ 1.70807179,  0.51930956, -0.91909532,  0.66727841]])"
      ]
     },
     "execution_count": 61,
     "metadata": {},
     "output_type": "execute_result"
    }
   ],
   "source": [
    "fix_data =ran_data[~np.isnan(ran_data).any(axis=1)]\n",
    "#ran_data == 'nan'\n",
    "fix_data "
   ]
  },
  {
   "cell_type": "code",
   "execution_count": 63,
   "id": "b861ac94",
   "metadata": {},
   "outputs": [
    {
     "data": {
      "text/plain": [
       "array([[0.1757241 , 0.48099823, 1.1436474 , 0.09570175],\n",
       "       [1.08111708, 1.48794278, 0.60627501, 0.01428676],\n",
       "       [0.520471  , 0.79505112, 1.27126045, 1.72801788],\n",
       "       [1.27691834, 0.2782737 , 2.09007835, 0.26922997],\n",
       "       [1.70807179, 0.51930956, 0.91909532, 0.66727841]])"
      ]
     },
     "execution_count": 63,
     "metadata": {},
     "output_type": "execute_result"
    }
   ],
   "source": [
    "fix_data2 = np.abs(fix_data)\n",
    "fix_data2"
   ]
  },
  {
   "cell_type": "code",
   "execution_count": 64,
   "id": "35ed422a",
   "metadata": {},
   "outputs": [
    {
     "data": {
      "text/plain": [
       "array([[0.41919458, 0.69354036, 1.06941451, 0.309357  ],\n",
       "       [1.0397678 , 1.2198126 , 0.77863663, 0.11952722],\n",
       "       [0.72143676, 0.89165639, 1.12750186, 1.31454094],\n",
       "       [1.13000811, 0.52751654, 1.44571033, 0.51887375],\n",
       "       [1.30693221, 0.72063136, 0.95869459, 0.81687111]])"
      ]
     },
     "execution_count": 64,
     "metadata": {},
     "output_type": "execute_result"
    }
   ],
   "source": [
    "fix_data3 = np.sqrt(fix_data2)\n",
    "fix_data3"
   ]
  },
  {
   "cell_type": "code",
   "execution_count": null,
   "id": "3c8d30ba",
   "metadata": {},
   "outputs": [
    {
     "data": {
      "text/plain": [
       "array([[-0.86942006, -0.36594585,  0.06711132, -1.17325932],\n",
       "       [ 0.03899742,  0.19869724, -0.25021079, -2.12421117],\n",
       "       [-0.32651055, -0.11467443,  0.12000444,  0.27348751],\n",
       "       [ 0.12222481, -0.63957505,  0.36860078, -0.65609469],\n",
       "       [ 0.26768256, -0.32762756, -0.04218272, -0.20227395]])"
      ]
     },
     "execution_count": 66,
     "metadata": {},
     "output_type": "execute_result"
    }
   ],
   "source": [
    "fix_data4 = np.log(fix_data3)\n",
    "fix_data4"
   ]
  },
  {
   "cell_type": "code",
   "execution_count": 68,
   "id": "be4960cd",
   "metadata": {},
   "outputs": [
    {
     "data": {
      "text/plain": [
       "array([[-1., -1.,  1., -1.],\n",
       "       [ 1.,  1., -1., -1.],\n",
       "       [-1., -1.,  1.,  1.],\n",
       "       [ 1., -1.,  1., -1.],\n",
       "       [ 1., -1., -1., -1.]])"
      ]
     },
     "execution_count": 68,
     "metadata": {},
     "output_type": "execute_result"
    }
   ],
   "source": [
    "np.sign(fix_data4)"
   ]
  },
  {
   "cell_type": "code",
   "execution_count": null,
   "id": "a210ee4d",
   "metadata": {},
   "outputs": [
    {
     "data": {
      "text/plain": [
       "array([[ 0.6452697 ,  0.93378572,  0.99774888,  0.38714859],\n",
       "       [ 0.9992397 ,  0.98032456,  0.96886025, -0.52559541],\n",
       "       [ 0.94716731,  0.99343209,  0.9928081 ,  0.96283481],\n",
       "       [ 0.99253984,  0.80234946,  0.93283241,  0.79238061],\n",
       "       [ 0.96438644,  0.94680845,  0.99911044,  0.97961228]])"
      ]
     },
     "execution_count": 69,
     "metadata": {},
     "output_type": "execute_result"
    }
   ],
   "source": [
    "# 삼각함수(cos, cosh, sin, sinh, tan, tanh)\n",
    "np.cos(fix_data4)"
   ]
  },
  {
   "cell_type": "code",
   "execution_count": 74,
   "id": "dc534a45",
   "metadata": {},
   "outputs": [
    {
     "data": {
      "text/plain": [
       "(array([[ 1.33102922, -0.20551087,  0.22713   , -1.54904131],\n",
       "        [ 0.47053105, -1.25085822, -1.50997674, -1.17595742],\n",
       "        [-0.49609743,  0.20877388,  0.54970159,  0.44493783],\n",
       "        [ 1.62074778,  0.09774663, -0.68665672, -0.16696969],\n",
       "        [ 0.11616947,  0.2404228 ,  0.91196531,  0.67085757],\n",
       "        [-0.82560961,  0.18044199, -1.13074091, -0.69129261],\n",
       "        [ 0.85565349,  0.87871009, -0.4746898 ,  0.6172986 ],\n",
       "        [ 2.49355931, -1.55730088,  0.92673978,  0.92925857]]),\n",
       " array([[ 0.7096936 , -0.38130429,  1.14059738,  0.02623514],\n",
       "        [-0.47667779, -0.5542285 , -0.45759121, -0.1271713 ],\n",
       "        [-0.92672566, -0.52939004,  1.24283457,  0.47764201],\n",
       "        [ 0.61511889, -0.96875674, -0.71363496, -0.76037105],\n",
       "        [-0.91632217, -0.68702065, -0.54699632, -1.02146291],\n",
       "        [ 2.79301871,  0.13510335, -0.89723993,  0.70753856],\n",
       "        [-2.47221473,  1.16982045,  1.06231528,  0.10275284],\n",
       "        [-1.73410701, -1.43774232,  1.93280566,  0.63586572]]))"
      ]
     },
     "execution_count": 74,
     "metadata": {},
     "output_type": "execute_result"
    }
   ],
   "source": [
    "# 두 개의 array에 동일한 위치의 요소끼리 비교\n",
    "data1 = np.random.randn(8,4)\n",
    "data2 = np.random.randn(8,4)\n",
    "data1, data2\n"
   ]
  },
  {
   "cell_type": "code",
   "execution_count": 75,
   "id": "5332a416",
   "metadata": {},
   "outputs": [
    {
     "data": {
      "text/plain": [
       "array([[ 1.33102922, -0.20551087,  1.14059738,  0.02623514],\n",
       "       [ 0.47053105, -0.5542285 , -0.45759121, -0.1271713 ],\n",
       "       [-0.49609743,  0.20877388,  1.24283457,  0.47764201],\n",
       "       [ 1.62074778,  0.09774663, -0.68665672, -0.16696969],\n",
       "       [ 0.11616947,  0.2404228 ,  0.91196531,  0.67085757],\n",
       "       [ 2.79301871,  0.18044199, -0.89723993,  0.70753856],\n",
       "       [ 0.85565349,  1.16982045,  1.06231528,  0.6172986 ],\n",
       "       [ 2.49355931, -1.43774232,  1.93280566,  0.92925857]])"
      ]
     },
     "execution_count": 75,
     "metadata": {},
     "output_type": "execute_result"
    }
   ],
   "source": [
    "np.maximum(data1, data2)"
   ]
  },
  {
   "cell_type": "code",
   "execution_count": 76,
   "id": "e51a7318",
   "metadata": {},
   "outputs": [
    {
     "data": {
      "text/plain": [
       "array([[ 0.7096936 , -0.38130429,  0.22713   , -1.54904131],\n",
       "       [-0.47667779, -1.25085822, -1.50997674, -1.17595742],\n",
       "       [-0.92672566, -0.52939004,  0.54970159,  0.44493783],\n",
       "       [ 0.61511889, -0.96875674, -0.71363496, -0.76037105],\n",
       "       [-0.91632217, -0.68702065, -0.54699632, -1.02146291],\n",
       "       [-0.82560961,  0.13510335, -1.13074091, -0.69129261],\n",
       "       [-2.47221473,  0.87871009, -0.4746898 ,  0.10275284],\n",
       "       [-1.73410701, -1.55730088,  0.92673978,  0.63586572]])"
      ]
     },
     "execution_count": 76,
     "metadata": {},
     "output_type": "execute_result"
    }
   ],
   "source": [
    "np.minimum(data1, data2)"
   ]
  },
  {
   "cell_type": "code",
   "execution_count": 77,
   "id": "d3261160",
   "metadata": {},
   "outputs": [
    {
     "data": {
      "text/plain": [
       "array([[1.33102922, 0.        , 0.22713   , 0.        ],\n",
       "       [0.47053105, 0.        , 0.        , 0.        ],\n",
       "       [0.        , 0.20877388, 0.54970159, 0.44493783],\n",
       "       [1.62074778, 0.09774663, 0.        , 0.        ],\n",
       "       [0.11616947, 0.2404228 , 0.91196531, 0.67085757],\n",
       "       [0.        , 0.18044199, 0.        , 0.        ],\n",
       "       [0.85565349, 0.87871009, 0.        , 0.6172986 ],\n",
       "       [2.49355931, 0.        , 0.92673978, 0.92925857]])"
      ]
     },
     "execution_count": 77,
     "metadata": {},
     "output_type": "execute_result"
    }
   ],
   "source": [
    "np.maximum(data1, 0) # ReLU(x) 같다."
   ]
  },
  {
   "cell_type": "code",
   "execution_count": 78,
   "id": "2e87d761",
   "metadata": {},
   "outputs": [
    {
     "data": {
      "text/plain": [
       "array([[0.7096936 , 0.5       , 1.14059738, 0.5       ],\n",
       "       [0.5       , 0.5       , 0.5       , 0.5       ],\n",
       "       [0.5       , 0.5       , 1.24283457, 0.5       ],\n",
       "       [0.61511889, 0.5       , 0.5       , 0.5       ],\n",
       "       [0.5       , 0.5       , 0.5       , 0.5       ],\n",
       "       [1.7       , 0.5       , 0.5       , 0.70753856],\n",
       "       [0.5       , 1.16982045, 1.06231528, 0.5       ],\n",
       "       [0.5       , 0.5       , 1.7       , 0.63586572]])"
      ]
     },
     "execution_count": 78,
     "metadata": {},
     "output_type": "execute_result"
    }
   ],
   "source": [
    "np.minimum(np.maximum(data2,0.5),1.7)"
   ]
  },
  {
   "cell_type": "markdown",
   "id": "1f2f29c2",
   "metadata": {},
   "source": [
    "## 통계함수"
   ]
  },
  {
   "cell_type": "code",
   "execution_count": 79,
   "id": "64cc6475",
   "metadata": {},
   "outputs": [
    {
     "data": {
      "text/plain": [
       "array([[ 1.96001427, -0.45933883, -0.2464668 ,  0.02844962],\n",
       "       [-0.84509548,  1.29444985,  1.05888102,  0.52776988],\n",
       "       [-1.38856578, -1.75597234, -1.10763096,  1.50190207],\n",
       "       [-1.20432321, -0.86626705, -1.18577128,  0.22654363]])"
      ]
     },
     "execution_count": 79,
     "metadata": {},
     "output_type": "execute_result"
    }
   ],
   "source": [
    "data = np.random.randn(4,4)\n",
    "data"
   ]
  },
  {
   "cell_type": "code",
   "execution_count": 80,
   "id": "258c489b",
   "metadata": {},
   "outputs": [
    {
     "data": {
      "text/plain": [
       "np.float64(-2.461421397634738)"
      ]
     },
     "execution_count": 80,
     "metadata": {},
     "output_type": "execute_result"
    }
   ],
   "source": [
    "np.sum(data)"
   ]
  },
  {
   "cell_type": "code",
   "execution_count": 81,
   "id": "5aff76f6",
   "metadata": {},
   "outputs": [
    {
     "data": {
      "text/plain": [
       "array([ 1.28265825,  2.03600527, -2.75026702, -3.02981791])"
      ]
     },
     "execution_count": 81,
     "metadata": {},
     "output_type": "execute_result"
    }
   ],
   "source": [
    "np.sum(data, axis = 1)"
   ]
  },
  {
   "cell_type": "code",
   "execution_count": 82,
   "id": "18f7ce3d",
   "metadata": {},
   "outputs": [
    {
     "data": {
      "text/plain": [
       "array([-1.4779702 , -1.78712837, -1.48098803,  2.2846652 ])"
      ]
     },
     "execution_count": 82,
     "metadata": {},
     "output_type": "execute_result"
    }
   ],
   "source": [
    "np.sum(data, axis = 0)"
   ]
  },
  {
   "cell_type": "code",
   "execution_count": 83,
   "id": "bcf46017",
   "metadata": {},
   "outputs": [
    {
     "data": {
      "text/plain": [
       "array([-0.70580563,  2.35333087, -2.8636033 , -2.05203833])"
      ]
     },
     "execution_count": 83,
     "metadata": {},
     "output_type": "execute_result"
    }
   ],
   "source": [
    "np.sum(data[:,1:3], axis = 1)"
   ]
  },
  {
   "cell_type": "code",
   "execution_count": 84,
   "id": "e04ffe5c",
   "metadata": {},
   "outputs": [
    {
     "data": {
      "text/plain": [
       "array([-1.78712837, -1.48098803,  2.2846652 ])"
      ]
     },
     "execution_count": 84,
     "metadata": {},
     "output_type": "execute_result"
    }
   ],
   "source": [
    "np.sum(data[:,1:], axis = 0)"
   ]
  },
  {
   "cell_type": "code",
   "execution_count": 85,
   "id": "e7d9b34c",
   "metadata": {},
   "outputs": [
    {
     "data": {
      "text/plain": [
       "array([[ 0.68128626, -0.74306326,  2.4752447 ,  0.54168534, -1.42326612],\n",
       "       [-1.06125575,  0.92273106, -1.64196633,  0.17379234, -0.72945649],\n",
       "       [ 0.41007111,  2.07108525,  0.1148141 , -0.78054277,  0.08509502]])"
      ]
     },
     "execution_count": 85,
     "metadata": {},
     "output_type": "execute_result"
    }
   ],
   "source": [
    "data2 = np.random.randn(3,5)\n",
    "data2"
   ]
  },
  {
   "cell_type": "code",
   "execution_count": 87,
   "id": "028ef2c0",
   "metadata": {},
   "outputs": [
    {
     "data": {
      "text/plain": [
       "np.float64(0.07308363105795969)"
      ]
     },
     "execution_count": 87,
     "metadata": {},
     "output_type": "execute_result"
    }
   ],
   "source": [
    "np.mean(data2)"
   ]
  },
  {
   "cell_type": "code",
   "execution_count": 88,
   "id": "0e92a62a",
   "metadata": {},
   "outputs": [
    {
     "data": {
      "text/plain": [
       "array([ 0.01003387,  0.75025102,  0.31603082, -0.02168836, -0.68920919])"
      ]
     },
     "execution_count": 88,
     "metadata": {},
     "output_type": "execute_result"
    }
   ],
   "source": [
    "np.mean(data2, axis = 0)"
   ]
  },
  {
   "cell_type": "code",
   "execution_count": 89,
   "id": "a24b7a96",
   "metadata": {},
   "outputs": [
    {
     "data": {
      "text/plain": [
       "array([ 0.30637738, -0.46723103,  0.38010454])"
      ]
     },
     "execution_count": 89,
     "metadata": {},
     "output_type": "execute_result"
    }
   ],
   "source": [
    "np.mean(data2, axis = 1)"
   ]
  },
  {
   "cell_type": "code",
   "execution_count": 90,
   "id": "3093dea2",
   "metadata": {},
   "outputs": [
    {
     "data": {
      "text/plain": [
       "np.float64(-1.6419663327585756)"
      ]
     },
     "execution_count": 90,
     "metadata": {},
     "output_type": "execute_result"
    }
   ],
   "source": [
    "np.min(data2)"
   ]
  },
  {
   "cell_type": "code",
   "execution_count": 91,
   "id": "ce7232b5",
   "metadata": {},
   "outputs": [
    {
     "data": {
      "text/plain": [
       "array([-1.42326612, -1.64196633, -0.78054277])"
      ]
     },
     "execution_count": 91,
     "metadata": {},
     "output_type": "execute_result"
    }
   ],
   "source": [
    "# 요소의 가장 작은 값 구하기, 반대는 max\n",
    "np.min(data2, axis = 1)"
   ]
  },
  {
   "cell_type": "code",
   "execution_count": 92,
   "id": "050493bf",
   "metadata": {},
   "outputs": [
    {
     "data": {
      "text/plain": [
       "np.float64(1.313693647302103)"
      ]
     },
     "execution_count": 92,
     "metadata": {},
     "output_type": "execute_result"
    }
   ],
   "source": [
    "# 분산계산\n",
    "np.var(data2)\n"
   ]
  },
  {
   "cell_type": "code",
   "execution_count": 93,
   "id": "01da62db",
   "metadata": {},
   "outputs": [
    {
     "data": {
      "text/plain": [
       "array([[-1.42326612, -0.74306326,  0.54168534,  0.68128626,  2.4752447 ],\n",
       "       [-1.64196633, -1.06125575, -0.72945649,  0.17379234,  0.92273106],\n",
       "       [-0.78054277,  0.08509502,  0.1148141 ,  0.41007111,  2.07108525]])"
      ]
     },
     "execution_count": 93,
     "metadata": {},
     "output_type": "execute_result"
    }
   ],
   "source": [
    "np.sort(data2)"
   ]
  },
  {
   "cell_type": "code",
   "execution_count": 94,
   "id": "7774f2b6",
   "metadata": {},
   "outputs": [
    {
     "data": {
      "text/plain": [
       "array([[-0.78054277,  0.08509502,  0.1148141 ,  0.41007111,  2.07108525],\n",
       "       [-1.64196633, -1.06125575, -0.72945649,  0.17379234,  0.92273106],\n",
       "       [-1.42326612, -0.74306326,  0.54168534,  0.68128626,  2.4752447 ]])"
      ]
     },
     "execution_count": 94,
     "metadata": {},
     "output_type": "execute_result"
    }
   ],
   "source": [
    "np.sort(data2)[::-1]"
   ]
  },
  {
   "cell_type": "code",
   "execution_count": 95,
   "id": "07493472",
   "metadata": {},
   "outputs": [
    {
     "data": {
      "text/plain": [
       "array([[-1.06125575, -0.74306326, -1.64196633, -0.78054277, -1.42326612],\n",
       "       [ 0.41007111,  0.92273106,  0.1148141 ,  0.17379234, -0.72945649],\n",
       "       [ 0.68128626,  2.07108525,  2.4752447 ,  0.54168534,  0.08509502]])"
      ]
     },
     "execution_count": 95,
     "metadata": {},
     "output_type": "execute_result"
    }
   ],
   "source": [
    "np.sort(data2, axis = 0)"
   ]
  },
  {
   "cell_type": "code",
   "execution_count": 30,
   "id": "fc077b04",
   "metadata": {},
   "outputs": [
    {
     "ename": "TypeError",
     "evalue": "maximum() takes from 2 to 3 positional arguments but 1 were given",
     "output_type": "error",
     "traceback": [
      "\u001b[31m---------------------------------------------------------------------------\u001b[39m",
      "\u001b[31mTypeError\u001b[39m                                 Traceback (most recent call last)",
      "\u001b[36mCell\u001b[39m\u001b[36m \u001b[39m\u001b[32mIn[30]\u001b[39m\u001b[32m, line 11\u001b[39m\n\u001b[32m      7\u001b[39m avr = np.mean(scores, axis = \u001b[32m1\u001b[39m)\n\u001b[32m      9\u001b[39m sta = np.min(std)\n\u001b[32m---> \u001b[39m\u001b[32m11\u001b[39m ninety = \u001b[43mnp\u001b[49m\u001b[43m.\u001b[49m\u001b[43mmaximum\u001b[49m\u001b[43m(\u001b[49m\u001b[43mscores\u001b[49m\u001b[43m,\u001b[49m\u001b[43m)\u001b[49m\n\u001b[32m     14\u001b[39m \u001b[38;5;28mprint\u001b[39m(\u001b[33m\"\u001b[39m\u001b[33m표준 편차 :\u001b[39m\u001b[33m\"\u001b[39m, std)\n\u001b[32m     15\u001b[39m \u001b[38;5;28mprint\u001b[39m(\u001b[33m\"\u001b[39m\u001b[33m1. 평균 : \u001b[39m\u001b[33m\"\u001b[39m, avr)\n",
      "\u001b[31mTypeError\u001b[39m: maximum() takes from 2 to 3 positional arguments but 1 were given"
     ]
    }
   ],
   "source": [
    "import numpy as np\n",
    "\n",
    "scores = [[85,\t90,\t88,92],[78\t,81,\t85\t,86],[78,\t81,\t85,\t86],[92,\t88,\t91,\t90],[88,\t85,\t84,\t89]]\n",
    "\n",
    "\n",
    "std = np.std(scores, axis = 1)\n",
    "avr = np.mean(scores, axis = 1)\n",
    "\n",
    "sta = np.min(std)\n",
    "\n",
    "ninety = np.maximum(scores,)\n",
    "\n",
    "\n",
    "print(\"표준 편차 :\", std)\n",
    "print(\"1. 평균 : \", avr)\n",
    "\n",
    "print(\"2. 가장 안정 :\", sta)\n",
    "\n",
    "print(\"3. 90점 :\", ninety)\n"
   ]
  },
  {
   "cell_type": "markdown",
   "id": "ea5e53e3",
   "metadata": {},
   "source": [
    "# NUMPY 정리"
   ]
  },
  {
   "cell_type": "code",
   "execution_count": 3,
   "id": "925e9ad1",
   "metadata": {},
   "outputs": [],
   "source": [
    "import numpy as np"
   ]
  },
  {
   "cell_type": "code",
   "execution_count": 5,
   "id": "2fbc58c2",
   "metadata": {},
   "outputs": [
    {
     "name": "stdout",
     "output_type": "stream",
     "text": [
      "덧셈: [ 7  9 11 13 15]\n",
      "뺄셈: [5 5 5 5 5]\n",
      "곱셈: [ 6 14 24 36 50]\n",
      "나눗셈: [6.         3.5        2.66666667 2.25       2.        ]\n"
     ]
    }
   ],
   "source": [
    "np1 = np.array([6,7,8,9,10])\n",
    "np2 = np.array([1,2,3,4,5])\n",
    "print(\"덧셈:\", np1 + np2)\n",
    "print(\"뺄셈:\", np1 - np2)\n",
    "print(\"곱셈:\", np1 * np2)\n",
    "print(\"나눗셈:\", np1 / np2)"
   ]
  },
  {
   "cell_type": "code",
   "execution_count": 6,
   "id": "ca0985f7",
   "metadata": {},
   "outputs": [
    {
     "name": "stdout",
     "output_type": "stream",
     "text": [
      "[16 17 18 19 20]\n"
     ]
    }
   ],
   "source": [
    "# 브로드캐스팅\n",
    "\n",
    "np3 = np1 + 10\n",
    "print(np3)"
   ]
  },
  {
   "cell_type": "code",
   "execution_count": 22,
   "id": "4b68bbb1",
   "metadata": {},
   "outputs": [
    {
     "name": "stdout",
     "output_type": "stream",
     "text": [
      "[[1 2 3]\n",
      " [4 5 6]\n",
      " [7 8 9]]\n",
      "[[11 22 33]]\n",
      "--------------------------\n",
      "[[ 2  4  6]\n",
      " [ 8 10 12]\n",
      " [14 16 18]]\n",
      "---------------------------------\n",
      "[[ 11  44  99]\n",
      " [ 44 110 198]\n",
      " [ 77 176 297]]\n"
     ]
    }
   ],
   "source": [
    "br1 = np.arange(1,10).reshape(3,3)\n",
    "br2 = np.array([11,22,33]).reshape(1,3)\n",
    "print(br1)\n",
    "print(br2)\n",
    "\n",
    "#스칼라 연산\n",
    "print(\"--------------------------\")\n",
    "print(br1 * 2)\n",
    "\n",
    "# 2D 와 1D 연산\n",
    "print(\"---------------------------------\")\n",
    "print(br1 * br2)"
   ]
  },
  {
   "cell_type": "code",
   "execution_count": 28,
   "id": "2f91cefc",
   "metadata": {},
   "outputs": [
    {
     "name": "stdout",
     "output_type": "stream",
     "text": [
      "[[1 2 3]\n",
      " [4 5 6]\n",
      " [7 8 9]]\n",
      "9\n",
      "[1 2 3 4 5 6 7 8 9]\n",
      "[1 2 3 4 5 6 7 8 9]\n",
      "[1 2 3 4 5 6 7 8 9]\n"
     ]
    }
   ],
   "source": [
    "ff = np.arange(1,10).reshape(3,3)\n",
    "print(ff)\n",
    "print(ff.size)\n",
    "print(ff.reshape(9))\n",
    "print(ff.reshape(ff.size))\n",
    "print(ff.flatten())"
   ]
  },
  {
   "cell_type": "code",
   "execution_count": 50,
   "id": "e9d6520d",
   "metadata": {},
   "outputs": [
    {
     "name": "stdout",
     "output_type": "stream",
     "text": [
      "[[[244  25 184]\n",
      "  [ 64  82 183]\n",
      "  [192  86  20]\n",
      "  ...\n",
      "  [216  70  64]\n",
      "  [ 71 117 206]\n",
      "  [148 128 217]]\n",
      "\n",
      " [[174  25   8]\n",
      "  [171 221 165]\n",
      "  [ 76  49 230]\n",
      "  ...\n",
      "  [ 68 188 239]\n",
      "  [173 119  58]\n",
      "  [ 11  70 148]]\n",
      "\n",
      " [[203  23 228]\n",
      "  [  5 149 229]\n",
      "  [191 169 191]\n",
      "  ...\n",
      "  [ 83 122 246]\n",
      "  [ 63 172 116]\n",
      "  [178   0 175]]\n",
      "\n",
      " ...\n",
      "\n",
      " [[  5 208  10]\n",
      "  [254 239 231]\n",
      "  [136  82  56]\n",
      "  ...\n",
      "  [239 148  29]\n",
      "  [ 30 150 118]\n",
      "  [205  57  66]]\n",
      "\n",
      " [[192 149 100]\n",
      "  [108   0  55]\n",
      "  [ 23 158 105]\n",
      "  ...\n",
      "  [ 97 102 163]\n",
      "  [142  91 179]\n",
      "  [198 121 202]]\n",
      "\n",
      " [[ 52 196  72]\n",
      "  [253 223  75]\n",
      "  [145  53 181]\n",
      "  ...\n",
      "  [ 16  64 150]\n",
      "  [215 221  63]\n",
      "  [ 27 191 105]]]\n",
      "평균값: 126.86053333333334 표준편차: 73.59977229844004 최소값: 0 최대값: 254\n"
     ]
    }
   ],
   "source": [
    "x = np.random.randint(0,255,size=(100,100,3))\n",
    "x\n",
    "print(x)\n",
    "print(\"평균값:\",np.mean(x),\"표준편차:\",np.std(x),\"최소값:\",x.min(),\"최대값:\",x.max())"
   ]
  },
  {
   "cell_type": "code",
   "execution_count": 52,
   "id": "8925c9d5",
   "metadata": {},
   "outputs": [
    {
     "name": "stdout",
     "output_type": "stream",
     "text": [
      "x의 개수 : 30000\n",
      "0이 아닌 개수: 29881\n",
      "0인 개수 : 119\n"
     ]
    }
   ],
   "source": [
    "xf = x.flatten()\n",
    "print(\"x의 개수 :\",len(xf))\n",
    "print(\"0이 아닌 개수:\",np.count_nonzero(xf))\n",
    "print(\"0인 개수 :\",len(xf)-np.count_nonzero(xf))"
   ]
  },
  {
   "cell_type": "code",
   "execution_count": 56,
   "id": "30c81f2c",
   "metadata": {},
   "outputs": [
    {
     "name": "stdout",
     "output_type": "stream",
     "text": [
      "1.0\n",
      "4.0\n",
      "50.0\n",
      "88.5\n",
      "455.0\n"
     ]
    }
   ],
   "source": [
    "y = np.array([3,4,66,123,123,455,66,77,23,4,34,1])\n",
    "print(np.percentile(y,0)) # 최소\n",
    "print(np.percentile(y,25)) # 제 1사분위수\n",
    "print(np.percentile(y,50)) # 중앙값, 제 2사분위수\n",
    "print(np.percentile(y,75)) # 제 3사분위수\n",
    "print(np.percentile(y,100)) # 최대값"
   ]
  },
  {
   "cell_type": "markdown",
   "id": "40be6a8e",
   "metadata": {},
   "source": [
    "## Data Frame"
   ]
  },
  {
   "cell_type": "code",
   "execution_count": 111,
   "id": "fca9173c",
   "metadata": {},
   "outputs": [
    {
     "data": {
      "text/html": [
       "<div>\n",
       "<style scoped>\n",
       "    .dataframe tbody tr th:only-of-type {\n",
       "        vertical-align: middle;\n",
       "    }\n",
       "\n",
       "    .dataframe tbody tr th {\n",
       "        vertical-align: top;\n",
       "    }\n",
       "\n",
       "    .dataframe thead th {\n",
       "        text-align: right;\n",
       "    }\n",
       "</style>\n",
       "<table border=\"1\" class=\"dataframe\">\n",
       "  <thead>\n",
       "    <tr style=\"text-align: right;\">\n",
       "      <th></th>\n",
       "      <th>A</th>\n",
       "      <th>B</th>\n",
       "      <th>c</th>\n",
       "    </tr>\n",
       "  </thead>\n",
       "  <tbody>\n",
       "    <tr>\n",
       "      <th>a</th>\n",
       "      <td>1</td>\n",
       "      <td>2</td>\n",
       "      <td>3</td>\n",
       "    </tr>\n",
       "    <tr>\n",
       "      <th>b</th>\n",
       "      <td>4</td>\n",
       "      <td>5</td>\n",
       "      <td>6</td>\n",
       "    </tr>\n",
       "    <tr>\n",
       "      <th>c</th>\n",
       "      <td>7</td>\n",
       "      <td>8</td>\n",
       "      <td>9</td>\n",
       "    </tr>\n",
       "  </tbody>\n",
       "</table>\n",
       "</div>"
      ],
      "text/plain": [
       "   A  B  c\n",
       "a  1  2  3\n",
       "b  4  5  6\n",
       "c  7  8  9"
      ]
     },
     "execution_count": 111,
     "metadata": {},
     "output_type": "execute_result"
    }
   ],
   "source": [
    "import pandas as pd\n",
    "df = pd.DataFrame([[1,2,3],[4,5,6],[7,8,9]],index=[\"a\",\"b\",\"c\"], columns=[\"A\",\"B\",\"c\"])\n",
    "df"
   ]
  },
  {
   "cell_type": "code",
   "execution_count": 112,
   "id": "58690f29",
   "metadata": {},
   "outputs": [
    {
     "data": {
      "text/html": [
       "<div>\n",
       "<style scoped>\n",
       "    .dataframe tbody tr th:only-of-type {\n",
       "        vertical-align: middle;\n",
       "    }\n",
       "\n",
       "    .dataframe tbody tr th {\n",
       "        vertical-align: top;\n",
       "    }\n",
       "\n",
       "    .dataframe thead th {\n",
       "        text-align: right;\n",
       "    }\n",
       "</style>\n",
       "<table border=\"1\" class=\"dataframe\">\n",
       "  <thead>\n",
       "    <tr style=\"text-align: right;\">\n",
       "      <th></th>\n",
       "      <th>A</th>\n",
       "      <th>B</th>\n",
       "      <th>c</th>\n",
       "    </tr>\n",
       "  </thead>\n",
       "  <tbody>\n",
       "    <tr>\n",
       "      <th>a</th>\n",
       "      <td>1</td>\n",
       "      <td>2</td>\n",
       "      <td>3</td>\n",
       "    </tr>\n",
       "    <tr>\n",
       "      <th>b</th>\n",
       "      <td>4</td>\n",
       "      <td>5</td>\n",
       "      <td>6</td>\n",
       "    </tr>\n",
       "    <tr>\n",
       "      <th>c</th>\n",
       "      <td>7</td>\n",
       "      <td>8</td>\n",
       "      <td>9</td>\n",
       "    </tr>\n",
       "  </tbody>\n",
       "</table>\n",
       "</div>"
      ],
      "text/plain": [
       "   A  B  c\n",
       "a  1  2  3\n",
       "b  4  5  6\n",
       "c  7  8  9"
      ]
     },
     "execution_count": 112,
     "metadata": {},
     "output_type": "execute_result"
    }
   ],
   "source": [
    "num = np.arange(1,10).reshape(3,3)\n",
    "df = pd.DataFrame(num, index=[\"a\",\"b\",\"c\"], columns=[\"A\",\"B\",\"c\"])\n",
    "df"
   ]
  },
  {
   "cell_type": "code",
   "execution_count": 113,
   "id": "47f75f5f",
   "metadata": {},
   "outputs": [
    {
     "data": {
      "text/html": [
       "<div>\n",
       "<style scoped>\n",
       "    .dataframe tbody tr th:only-of-type {\n",
       "        vertical-align: middle;\n",
       "    }\n",
       "\n",
       "    .dataframe tbody tr th {\n",
       "        vertical-align: top;\n",
       "    }\n",
       "\n",
       "    .dataframe thead th {\n",
       "        text-align: right;\n",
       "    }\n",
       "</style>\n",
       "<table border=\"1\" class=\"dataframe\">\n",
       "  <thead>\n",
       "    <tr style=\"text-align: right;\">\n",
       "      <th></th>\n",
       "      <th>과일이름</th>\n",
       "      <th>가격</th>\n",
       "      <th>개수</th>\n",
       "    </tr>\n",
       "  </thead>\n",
       "  <tbody>\n",
       "    <tr>\n",
       "      <th>0</th>\n",
       "      <td>apple</td>\n",
       "      <td>4400</td>\n",
       "      <td>3</td>\n",
       "    </tr>\n",
       "    <tr>\n",
       "      <th>1</th>\n",
       "      <td>banana</td>\n",
       "      <td>5000</td>\n",
       "      <td>8</td>\n",
       "    </tr>\n",
       "    <tr>\n",
       "      <th>2</th>\n",
       "      <td>kiwi</td>\n",
       "      <td>2500</td>\n",
       "      <td>11</td>\n",
       "    </tr>\n",
       "    <tr>\n",
       "      <th>3</th>\n",
       "      <td>melon</td>\n",
       "      <td>7000</td>\n",
       "      <td>22</td>\n",
       "    </tr>\n",
       "    <tr>\n",
       "      <th>4</th>\n",
       "      <td>orange</td>\n",
       "      <td>2000</td>\n",
       "      <td>6</td>\n",
       "    </tr>\n",
       "    <tr>\n",
       "      <th>5</th>\n",
       "      <td>mango</td>\n",
       "      <td>8800</td>\n",
       "      <td>5</td>\n",
       "    </tr>\n",
       "  </tbody>\n",
       "</table>\n",
       "</div>"
      ],
      "text/plain": [
       "     과일이름    가격  개수\n",
       "0   apple  4400   3\n",
       "1  banana  5000   8\n",
       "2    kiwi  2500  11\n",
       "3   melon  7000  22\n",
       "4  orange  2000   6\n",
       "5   mango  8800   5"
      ]
     },
     "execution_count": 113,
     "metadata": {},
     "output_type": "execute_result"
    }
   ],
   "source": [
    "dd = {\"과일이름\":[\"apple\", \"banana\",\"kiwi\",\"melon\", \"orange\",\"mango\"],\n",
    "      \"가격\":[4400,5000,2500,7000,2000,8800],\n",
    "      \"개수\":[3,8,11,22,6,5]}\n",
    "df2 = pd.DataFrame(dd)\n",
    "df2"
   ]
  },
  {
   "cell_type": "code",
   "execution_count": 114,
   "id": "74fe5e22",
   "metadata": {},
   "outputs": [
    {
     "data": {
      "text/html": [
       "<div>\n",
       "<style scoped>\n",
       "    .dataframe tbody tr th:only-of-type {\n",
       "        vertical-align: middle;\n",
       "    }\n",
       "\n",
       "    .dataframe tbody tr th {\n",
       "        vertical-align: top;\n",
       "    }\n",
       "\n",
       "    .dataframe thead th {\n",
       "        text-align: right;\n",
       "    }\n",
       "</style>\n",
       "<table border=\"1\" class=\"dataframe\">\n",
       "  <thead>\n",
       "    <tr style=\"text-align: right;\">\n",
       "      <th></th>\n",
       "      <th>과일이름</th>\n",
       "      <th>원가</th>\n",
       "      <th>수량</th>\n",
       "    </tr>\n",
       "    <tr>\n",
       "      <th></th>\n",
       "      <th></th>\n",
       "      <th></th>\n",
       "      <th></th>\n",
       "    </tr>\n",
       "  </thead>\n",
       "  <tbody>\n",
       "    <tr>\n",
       "      <th>0</th>\n",
       "      <td>apple</td>\n",
       "      <td>4400</td>\n",
       "      <td>3</td>\n",
       "    </tr>\n",
       "    <tr>\n",
       "      <th>1</th>\n",
       "      <td>banana</td>\n",
       "      <td>5000</td>\n",
       "      <td>8</td>\n",
       "    </tr>\n",
       "    <tr>\n",
       "      <th>2</th>\n",
       "      <td>kiwi</td>\n",
       "      <td>2500</td>\n",
       "      <td>11</td>\n",
       "    </tr>\n",
       "    <tr>\n",
       "      <th>3</th>\n",
       "      <td>melon</td>\n",
       "      <td>7000</td>\n",
       "      <td>22</td>\n",
       "    </tr>\n",
       "    <tr>\n",
       "      <th>4</th>\n",
       "      <td>orange</td>\n",
       "      <td>2000</td>\n",
       "      <td>6</td>\n",
       "    </tr>\n",
       "    <tr>\n",
       "      <th>5</th>\n",
       "      <td>mango</td>\n",
       "      <td>8800</td>\n",
       "      <td>5</td>\n",
       "    </tr>\n",
       "  </tbody>\n",
       "</table>\n",
       "</div>"
      ],
      "text/plain": [
       "     과일이름    원가  수량\n",
       "                   \n",
       "0   apple  4400   3\n",
       "1  banana  5000   8\n",
       "2    kiwi  2500  11\n",
       "3   melon  7000  22\n",
       "4  orange  2000   6\n",
       "5   mango  8800   5"
      ]
     },
     "execution_count": 114,
     "metadata": {},
     "output_type": "execute_result"
    }
   ],
   "source": [
    "df2.columns.name = \"info\"\n",
    "df2.index.name = ''\n",
    "df2.columns = ['과일이름','원가','수량']\n",
    "df2"
   ]
  },
  {
   "cell_type": "code",
   "execution_count": 115,
   "id": "61f166be",
   "metadata": {},
   "outputs": [
    {
     "data": {
      "text/html": [
       "<div>\n",
       "<style scoped>\n",
       "    .dataframe tbody tr th:only-of-type {\n",
       "        vertical-align: middle;\n",
       "    }\n",
       "\n",
       "    .dataframe tbody tr th {\n",
       "        vertical-align: top;\n",
       "    }\n",
       "\n",
       "    .dataframe thead th {\n",
       "        text-align: right;\n",
       "    }\n",
       "</style>\n",
       "<table border=\"1\" class=\"dataframe\">\n",
       "  <thead>\n",
       "    <tr style=\"text-align: right;\">\n",
       "      <th></th>\n",
       "      <th>원가</th>\n",
       "      <th>수량</th>\n",
       "    </tr>\n",
       "  </thead>\n",
       "  <tbody>\n",
       "    <tr>\n",
       "      <th>count</th>\n",
       "      <td>6.000000</td>\n",
       "      <td>6.000000</td>\n",
       "    </tr>\n",
       "    <tr>\n",
       "      <th>mean</th>\n",
       "      <td>4950.000000</td>\n",
       "      <td>9.166667</td>\n",
       "    </tr>\n",
       "    <tr>\n",
       "      <th>std</th>\n",
       "      <td>2609.022806</td>\n",
       "      <td>6.853223</td>\n",
       "    </tr>\n",
       "    <tr>\n",
       "      <th>min</th>\n",
       "      <td>2000.000000</td>\n",
       "      <td>3.000000</td>\n",
       "    </tr>\n",
       "    <tr>\n",
       "      <th>25%</th>\n",
       "      <td>2975.000000</td>\n",
       "      <td>5.250000</td>\n",
       "    </tr>\n",
       "    <tr>\n",
       "      <th>50%</th>\n",
       "      <td>4700.000000</td>\n",
       "      <td>7.000000</td>\n",
       "    </tr>\n",
       "    <tr>\n",
       "      <th>75%</th>\n",
       "      <td>6500.000000</td>\n",
       "      <td>10.250000</td>\n",
       "    </tr>\n",
       "    <tr>\n",
       "      <th>max</th>\n",
       "      <td>8800.000000</td>\n",
       "      <td>22.000000</td>\n",
       "    </tr>\n",
       "  </tbody>\n",
       "</table>\n",
       "</div>"
      ],
      "text/plain": [
       "                원가         수량\n",
       "count     6.000000   6.000000\n",
       "mean   4950.000000   9.166667\n",
       "std    2609.022806   6.853223\n",
       "min    2000.000000   3.000000\n",
       "25%    2975.000000   5.250000\n",
       "50%    4700.000000   7.000000\n",
       "75%    6500.000000  10.250000\n",
       "max    8800.000000  22.000000"
      ]
     },
     "execution_count": 115,
     "metadata": {},
     "output_type": "execute_result"
    }
   ],
   "source": [
    "df2.describe()"
   ]
  },
  {
   "cell_type": "code",
   "execution_count": 116,
   "id": "b1c98268",
   "metadata": {},
   "outputs": [
    {
     "data": {
      "text/plain": [
       "(     과일이름  품종    원가  할인  수량  합계\n",
       "                                \n",
       " 0   apple NaN  4400 NaN   3 NaN\n",
       " 1  banana NaN  5000 NaN   8 NaN\n",
       " 2    kiwi NaN  2500 NaN  11 NaN\n",
       " 3   melon NaN  7000 NaN  22 NaN\n",
       " 4  orange NaN  2000 NaN   6 NaN\n",
       " 5   mango NaN  8800 NaN   5 NaN,\n",
       " 과일이름     object\n",
       " 품종      float64\n",
       " 원가        int64\n",
       " 할인      float64\n",
       " 수량        int64\n",
       " 합계      float64\n",
       " dtype: object)"
      ]
     },
     "execution_count": 116,
     "metadata": {},
     "output_type": "execute_result"
    }
   ],
   "source": [
    "df3 = pd.DataFrame(df2, columns = ['과일이름', '품종','원가','할인','수량','합계'])\n",
    "df3, df3.dtypes"
   ]
  },
  {
   "cell_type": "code",
   "execution_count": 117,
   "id": "551483a9",
   "metadata": {},
   "outputs": [
    {
     "name": "stderr",
     "output_type": "stream",
     "text": [
      "C:\\Users\\user\\AppData\\Local\\Temp\\ipykernel_15936\\2862021752.py:2: FutureWarning: Setting an item of incompatible dtype is deprecated and will raise in a future error of pandas. Value '[nan nan nan nan nan nan]' has dtype incompatible with float64, please explicitly cast to a compatible dtype first.\n",
      "  df3.loc[:,'품종'] = df3.loc[:,'품종'].astype('object')\n"
     ]
    },
    {
     "data": {
      "text/html": [
       "<div>\n",
       "<style scoped>\n",
       "    .dataframe tbody tr th:only-of-type {\n",
       "        vertical-align: middle;\n",
       "    }\n",
       "\n",
       "    .dataframe tbody tr th {\n",
       "        vertical-align: top;\n",
       "    }\n",
       "\n",
       "    .dataframe thead th {\n",
       "        text-align: right;\n",
       "    }\n",
       "</style>\n",
       "<table border=\"1\" class=\"dataframe\">\n",
       "  <thead>\n",
       "    <tr style=\"text-align: right;\">\n",
       "      <th></th>\n",
       "      <th>과일이름</th>\n",
       "      <th>품종</th>\n",
       "      <th>원가</th>\n",
       "      <th>할인</th>\n",
       "      <th>수량</th>\n",
       "      <th>합계</th>\n",
       "    </tr>\n",
       "    <tr>\n",
       "      <th></th>\n",
       "      <th></th>\n",
       "      <th></th>\n",
       "      <th></th>\n",
       "      <th></th>\n",
       "      <th></th>\n",
       "      <th></th>\n",
       "    </tr>\n",
       "  </thead>\n",
       "  <tbody>\n",
       "    <tr>\n",
       "      <th>0</th>\n",
       "      <td>apple</td>\n",
       "      <td>신선한</td>\n",
       "      <td>4400</td>\n",
       "      <td>0.2</td>\n",
       "      <td>3</td>\n",
       "      <td>NaN</td>\n",
       "    </tr>\n",
       "    <tr>\n",
       "      <th>1</th>\n",
       "      <td>banana</td>\n",
       "      <td>궁금한</td>\n",
       "      <td>5000</td>\n",
       "      <td>0.3</td>\n",
       "      <td>8</td>\n",
       "      <td>NaN</td>\n",
       "    </tr>\n",
       "    <tr>\n",
       "      <th>2</th>\n",
       "      <td>kiwi</td>\n",
       "      <td>맛있는</td>\n",
       "      <td>2500</td>\n",
       "      <td>0.2</td>\n",
       "      <td>11</td>\n",
       "      <td>NaN</td>\n",
       "    </tr>\n",
       "    <tr>\n",
       "      <th>3</th>\n",
       "      <td>melon</td>\n",
       "      <td>최적의</td>\n",
       "      <td>7000</td>\n",
       "      <td>0.1</td>\n",
       "      <td>22</td>\n",
       "      <td>NaN</td>\n",
       "    </tr>\n",
       "    <tr>\n",
       "      <th>4</th>\n",
       "      <td>orange</td>\n",
       "      <td>웰빙</td>\n",
       "      <td>2000</td>\n",
       "      <td>0.2</td>\n",
       "      <td>6</td>\n",
       "      <td>NaN</td>\n",
       "    </tr>\n",
       "    <tr>\n",
       "      <th>5</th>\n",
       "      <td>mango</td>\n",
       "      <td>유기농</td>\n",
       "      <td>8800</td>\n",
       "      <td>0.3</td>\n",
       "      <td>5</td>\n",
       "      <td>NaN</td>\n",
       "    </tr>\n",
       "  </tbody>\n",
       "</table>\n",
       "</div>"
      ],
      "text/plain": [
       "     과일이름   품종    원가   할인  수량  합계\n",
       "                                 \n",
       "0   apple  신선한  4400  0.2   3 NaN\n",
       "1  banana  궁금한  5000  0.3   8 NaN\n",
       "2    kiwi  맛있는  2500  0.2  11 NaN\n",
       "3   melon  최적의  7000  0.1  22 NaN\n",
       "4  orange   웰빙  2000  0.2   6 NaN\n",
       "5   mango  유기농  8800  0.3   5 NaN"
      ]
     },
     "execution_count": 117,
     "metadata": {},
     "output_type": "execute_result"
    }
   ],
   "source": [
    "# df3[\"품종\"] = df3[\"품종\"].astype('object')\n",
    "df3.loc[:,'품종'] = df3.loc[:,'품종'].astype('object')\n",
    "df3.loc[:,'품종'] = ['신선한','궁금한','맛있는','최적의','웰빙','유기농']\n",
    "df3.loc[:,'할인'] = [0.2,0.3,0.2,0.1,0.2,0.3]\n",
    "df3"
   ]
  },
  {
   "cell_type": "code",
   "execution_count": 118,
   "id": "14f00b5c",
   "metadata": {},
   "outputs": [
    {
     "data": {
      "text/html": [
       "<div>\n",
       "<style scoped>\n",
       "    .dataframe tbody tr th:only-of-type {\n",
       "        vertical-align: middle;\n",
       "    }\n",
       "\n",
       "    .dataframe tbody tr th {\n",
       "        vertical-align: top;\n",
       "    }\n",
       "\n",
       "    .dataframe thead th {\n",
       "        text-align: right;\n",
       "    }\n",
       "</style>\n",
       "<table border=\"1\" class=\"dataframe\">\n",
       "  <thead>\n",
       "    <tr style=\"text-align: right;\">\n",
       "      <th></th>\n",
       "      <th>과일이름</th>\n",
       "      <th>품종</th>\n",
       "      <th>원가</th>\n",
       "      <th>할인</th>\n",
       "      <th>수량</th>\n",
       "      <th>합계</th>\n",
       "    </tr>\n",
       "    <tr>\n",
       "      <th></th>\n",
       "      <th></th>\n",
       "      <th></th>\n",
       "      <th></th>\n",
       "      <th></th>\n",
       "      <th></th>\n",
       "      <th></th>\n",
       "    </tr>\n",
       "  </thead>\n",
       "  <tbody>\n",
       "    <tr>\n",
       "      <th>0</th>\n",
       "      <td>apple</td>\n",
       "      <td>신선한</td>\n",
       "      <td>4400</td>\n",
       "      <td>0.2</td>\n",
       "      <td>3</td>\n",
       "      <td>10560</td>\n",
       "    </tr>\n",
       "    <tr>\n",
       "      <th>1</th>\n",
       "      <td>banana</td>\n",
       "      <td>궁금한</td>\n",
       "      <td>5000</td>\n",
       "      <td>0.3</td>\n",
       "      <td>8</td>\n",
       "      <td>28000</td>\n",
       "    </tr>\n",
       "    <tr>\n",
       "      <th>2</th>\n",
       "      <td>kiwi</td>\n",
       "      <td>맛있는</td>\n",
       "      <td>2500</td>\n",
       "      <td>0.2</td>\n",
       "      <td>11</td>\n",
       "      <td>22000</td>\n",
       "    </tr>\n",
       "    <tr>\n",
       "      <th>3</th>\n",
       "      <td>melon</td>\n",
       "      <td>최적의</td>\n",
       "      <td>7000</td>\n",
       "      <td>0.1</td>\n",
       "      <td>22</td>\n",
       "      <td>138600</td>\n",
       "    </tr>\n",
       "    <tr>\n",
       "      <th>4</th>\n",
       "      <td>orange</td>\n",
       "      <td>웰빙</td>\n",
       "      <td>2000</td>\n",
       "      <td>0.2</td>\n",
       "      <td>6</td>\n",
       "      <td>9600</td>\n",
       "    </tr>\n",
       "    <tr>\n",
       "      <th>5</th>\n",
       "      <td>mango</td>\n",
       "      <td>유기농</td>\n",
       "      <td>8800</td>\n",
       "      <td>0.3</td>\n",
       "      <td>5</td>\n",
       "      <td>30799</td>\n",
       "    </tr>\n",
       "  </tbody>\n",
       "</table>\n",
       "</div>"
      ],
      "text/plain": [
       "     과일이름   품종    원가   할인  수량      합계\n",
       "                                     \n",
       "0   apple  신선한  4400  0.2   3   10560\n",
       "1  banana  궁금한  5000  0.3   8   28000\n",
       "2    kiwi  맛있는  2500  0.2  11   22000\n",
       "3   melon  최적의  7000  0.1  22  138600\n",
       "4  orange   웰빙  2000  0.2   6    9600\n",
       "5   mango  유기농  8800  0.3   5   30799"
      ]
     },
     "execution_count": 118,
     "metadata": {},
     "output_type": "execute_result"
    }
   ],
   "source": [
    "df3['합계'] = (df3[\"원가\"] * df3[\"수량\"] * (1 - df3[\"할인\"])).astype('int')\n",
    "df3"
   ]
  },
  {
   "cell_type": "code",
   "execution_count": 132,
   "id": "aeb69970",
   "metadata": {},
   "outputs": [
    {
     "name": "stdout",
     "output_type": "stream",
     "text": [
      "과일이름     object\n",
      "품종       object\n",
      "원가        int64\n",
      "할인      float64\n",
      "수량        int64\n",
      "합계        int64\n",
      "ETC      object\n",
      "Test     object\n",
      "dtype: object\n"
     ]
    },
    {
     "data": {
      "text/html": [
       "<div>\n",
       "<style scoped>\n",
       "    .dataframe tbody tr th:only-of-type {\n",
       "        vertical-align: middle;\n",
       "    }\n",
       "\n",
       "    .dataframe tbody tr th {\n",
       "        vertical-align: top;\n",
       "    }\n",
       "\n",
       "    .dataframe thead th {\n",
       "        text-align: right;\n",
       "    }\n",
       "</style>\n",
       "<table border=\"1\" class=\"dataframe\">\n",
       "  <thead>\n",
       "    <tr style=\"text-align: right;\">\n",
       "      <th></th>\n",
       "      <th>과일이름</th>\n",
       "      <th>품종</th>\n",
       "      <th>원가</th>\n",
       "      <th>할인</th>\n",
       "      <th>수량</th>\n",
       "      <th>합계</th>\n",
       "      <th>ETC</th>\n",
       "      <th>Test</th>\n",
       "    </tr>\n",
       "    <tr>\n",
       "      <th></th>\n",
       "      <th></th>\n",
       "      <th></th>\n",
       "      <th></th>\n",
       "      <th></th>\n",
       "      <th></th>\n",
       "      <th></th>\n",
       "      <th></th>\n",
       "      <th></th>\n",
       "    </tr>\n",
       "  </thead>\n",
       "  <tbody>\n",
       "    <tr>\n",
       "      <th>0</th>\n",
       "      <td>apple</td>\n",
       "      <td>신선한</td>\n",
       "      <td>4400</td>\n",
       "      <td>0.2</td>\n",
       "      <td>3</td>\n",
       "      <td>10560</td>\n",
       "      <td>-</td>\n",
       "      <td>test</td>\n",
       "    </tr>\n",
       "    <tr>\n",
       "      <th>1</th>\n",
       "      <td>banana</td>\n",
       "      <td>궁금한</td>\n",
       "      <td>5000</td>\n",
       "      <td>0.3</td>\n",
       "      <td>8</td>\n",
       "      <td>28000</td>\n",
       "      <td>-</td>\n",
       "      <td>test</td>\n",
       "    </tr>\n",
       "    <tr>\n",
       "      <th>2</th>\n",
       "      <td>kiwi</td>\n",
       "      <td>맛있는</td>\n",
       "      <td>2500</td>\n",
       "      <td>0.2</td>\n",
       "      <td>11</td>\n",
       "      <td>22000</td>\n",
       "      <td>-</td>\n",
       "      <td>test</td>\n",
       "    </tr>\n",
       "    <tr>\n",
       "      <th>3</th>\n",
       "      <td>melon</td>\n",
       "      <td>최적의</td>\n",
       "      <td>7000</td>\n",
       "      <td>0.1</td>\n",
       "      <td>22</td>\n",
       "      <td>138600</td>\n",
       "      <td>-</td>\n",
       "      <td>test</td>\n",
       "    </tr>\n",
       "    <tr>\n",
       "      <th>4</th>\n",
       "      <td>orange</td>\n",
       "      <td>웰빙</td>\n",
       "      <td>2000</td>\n",
       "      <td>0.2</td>\n",
       "      <td>6</td>\n",
       "      <td>9600</td>\n",
       "      <td>-</td>\n",
       "      <td>test</td>\n",
       "    </tr>\n",
       "    <tr>\n",
       "      <th>5</th>\n",
       "      <td>mango</td>\n",
       "      <td>유기농</td>\n",
       "      <td>8800</td>\n",
       "      <td>0.3</td>\n",
       "      <td>5</td>\n",
       "      <td>30799</td>\n",
       "      <td>-</td>\n",
       "      <td>test</td>\n",
       "    </tr>\n",
       "  </tbody>\n",
       "</table>\n",
       "</div>"
      ],
      "text/plain": [
       "     과일이름   품종    원가   할인  수량      합계 ETC  Test\n",
       "                                               \n",
       "0   apple  신선한  4400  0.2   3   10560   -  test\n",
       "1  banana  궁금한  5000  0.3   8   28000   -  test\n",
       "2    kiwi  맛있는  2500  0.2  11   22000   -  test\n",
       "3   melon  최적의  7000  0.1  22  138600   -  test\n",
       "4  orange   웰빙  2000  0.2   6    9600   -  test\n",
       "5   mango  유기농  8800  0.3   5   30799   -  test"
      ]
     },
     "execution_count": 132,
     "metadata": {},
     "output_type": "execute_result"
    }
   ],
   "source": [
    "df3['ETC'] = \"-\"\n",
    "df3['Test'] = \"test\"\n",
    "print(df3.dtypes)\n",
    "df3"
   ]
  },
  {
   "cell_type": "code",
   "execution_count": 133,
   "id": "0774b2bf",
   "metadata": {},
   "outputs": [
    {
     "data": {
      "text/html": [
       "<div>\n",
       "<style scoped>\n",
       "    .dataframe tbody tr th:only-of-type {\n",
       "        vertical-align: middle;\n",
       "    }\n",
       "\n",
       "    .dataframe tbody tr th {\n",
       "        vertical-align: top;\n",
       "    }\n",
       "\n",
       "    .dataframe thead th {\n",
       "        text-align: right;\n",
       "    }\n",
       "</style>\n",
       "<table border=\"1\" class=\"dataframe\">\n",
       "  <thead>\n",
       "    <tr style=\"text-align: right;\">\n",
       "      <th></th>\n",
       "      <th>과일이름</th>\n",
       "      <th>품종</th>\n",
       "      <th>원가</th>\n",
       "      <th>할인</th>\n",
       "      <th>수량</th>\n",
       "      <th>합계</th>\n",
       "      <th>ETC</th>\n",
       "    </tr>\n",
       "    <tr>\n",
       "      <th></th>\n",
       "      <th></th>\n",
       "      <th></th>\n",
       "      <th></th>\n",
       "      <th></th>\n",
       "      <th></th>\n",
       "      <th></th>\n",
       "      <th></th>\n",
       "    </tr>\n",
       "  </thead>\n",
       "  <tbody>\n",
       "    <tr>\n",
       "      <th>0</th>\n",
       "      <td>apple</td>\n",
       "      <td>신선한</td>\n",
       "      <td>4400</td>\n",
       "      <td>0.2</td>\n",
       "      <td>3</td>\n",
       "      <td>10560</td>\n",
       "      <td>-</td>\n",
       "    </tr>\n",
       "    <tr>\n",
       "      <th>1</th>\n",
       "      <td>banana</td>\n",
       "      <td>궁금한</td>\n",
       "      <td>5000</td>\n",
       "      <td>0.3</td>\n",
       "      <td>8</td>\n",
       "      <td>28000</td>\n",
       "      <td>-</td>\n",
       "    </tr>\n",
       "    <tr>\n",
       "      <th>2</th>\n",
       "      <td>kiwi</td>\n",
       "      <td>맛있는</td>\n",
       "      <td>2500</td>\n",
       "      <td>0.2</td>\n",
       "      <td>11</td>\n",
       "      <td>22000</td>\n",
       "      <td>-</td>\n",
       "    </tr>\n",
       "    <tr>\n",
       "      <th>3</th>\n",
       "      <td>melon</td>\n",
       "      <td>최적의</td>\n",
       "      <td>7000</td>\n",
       "      <td>0.1</td>\n",
       "      <td>22</td>\n",
       "      <td>138600</td>\n",
       "      <td>-</td>\n",
       "    </tr>\n",
       "    <tr>\n",
       "      <th>4</th>\n",
       "      <td>orange</td>\n",
       "      <td>웰빙</td>\n",
       "      <td>2000</td>\n",
       "      <td>0.2</td>\n",
       "      <td>6</td>\n",
       "      <td>9600</td>\n",
       "      <td>-</td>\n",
       "    </tr>\n",
       "    <tr>\n",
       "      <th>5</th>\n",
       "      <td>mango</td>\n",
       "      <td>유기농</td>\n",
       "      <td>8800</td>\n",
       "      <td>0.3</td>\n",
       "      <td>5</td>\n",
       "      <td>30799</td>\n",
       "      <td>-</td>\n",
       "    </tr>\n",
       "  </tbody>\n",
       "</table>\n",
       "</div>"
      ],
      "text/plain": [
       "     과일이름   품종    원가   할인  수량      합계 ETC\n",
       "                                         \n",
       "0   apple  신선한  4400  0.2   3   10560   -\n",
       "1  banana  궁금한  5000  0.3   8   28000   -\n",
       "2    kiwi  맛있는  2500  0.2  11   22000   -\n",
       "3   melon  최적의  7000  0.1  22  138600   -\n",
       "4  orange   웰빙  2000  0.2   6    9600   -\n",
       "5   mango  유기농  8800  0.3   5   30799   -"
      ]
     },
     "execution_count": 133,
     "metadata": {},
     "output_type": "execute_result"
    }
   ],
   "source": [
    "del df3['Test']\n",
    "df3"
   ]
  },
  {
   "cell_type": "code",
   "execution_count": 135,
   "id": "5dd99b23",
   "metadata": {},
   "outputs": [
    {
     "data": {
      "text/html": [
       "<div>\n",
       "<style scoped>\n",
       "    .dataframe tbody tr th:only-of-type {\n",
       "        vertical-align: middle;\n",
       "    }\n",
       "\n",
       "    .dataframe tbody tr th {\n",
       "        vertical-align: top;\n",
       "    }\n",
       "\n",
       "    .dataframe thead th {\n",
       "        text-align: right;\n",
       "    }\n",
       "</style>\n",
       "<table border=\"1\" class=\"dataframe\">\n",
       "  <thead>\n",
       "    <tr style=\"text-align: right;\">\n",
       "      <th></th>\n",
       "      <th>과일이름</th>\n",
       "      <th>품종</th>\n",
       "      <th>원가</th>\n",
       "      <th>할인</th>\n",
       "      <th>수량</th>\n",
       "      <th>합계</th>\n",
       "      <th>ETC</th>\n",
       "    </tr>\n",
       "    <tr>\n",
       "      <th></th>\n",
       "      <th></th>\n",
       "      <th></th>\n",
       "      <th></th>\n",
       "      <th></th>\n",
       "      <th></th>\n",
       "      <th></th>\n",
       "      <th></th>\n",
       "    </tr>\n",
       "  </thead>\n",
       "  <tbody>\n",
       "    <tr>\n",
       "      <th>0</th>\n",
       "      <td>apple</td>\n",
       "      <td>신선한</td>\n",
       "      <td>4400</td>\n",
       "      <td>0.2</td>\n",
       "      <td>3</td>\n",
       "      <td>10560</td>\n",
       "      <td></td>\n",
       "    </tr>\n",
       "    <tr>\n",
       "      <th>1</th>\n",
       "      <td>banana</td>\n",
       "      <td>궁금한</td>\n",
       "      <td>5000</td>\n",
       "      <td>0.3</td>\n",
       "      <td>8</td>\n",
       "      <td>28000</td>\n",
       "      <td></td>\n",
       "    </tr>\n",
       "    <tr>\n",
       "      <th>2</th>\n",
       "      <td>kiwi</td>\n",
       "      <td>맛있는</td>\n",
       "      <td>2500</td>\n",
       "      <td>0.2</td>\n",
       "      <td>11</td>\n",
       "      <td>22000</td>\n",
       "      <td>1.3</td>\n",
       "    </tr>\n",
       "    <tr>\n",
       "      <th>3</th>\n",
       "      <td>melon</td>\n",
       "      <td>최적의</td>\n",
       "      <td>7000</td>\n",
       "      <td>0.1</td>\n",
       "      <td>22</td>\n",
       "      <td>138600</td>\n",
       "      <td></td>\n",
       "    </tr>\n",
       "    <tr>\n",
       "      <th>4</th>\n",
       "      <td>orange</td>\n",
       "      <td>웰빙</td>\n",
       "      <td>2000</td>\n",
       "      <td>0.2</td>\n",
       "      <td>6</td>\n",
       "      <td>9600</td>\n",
       "      <td>2.2</td>\n",
       "    </tr>\n",
       "    <tr>\n",
       "      <th>5</th>\n",
       "      <td>mango</td>\n",
       "      <td>유기농</td>\n",
       "      <td>8800</td>\n",
       "      <td>0.3</td>\n",
       "      <td>5</td>\n",
       "      <td>30799</td>\n",
       "      <td></td>\n",
       "    </tr>\n",
       "  </tbody>\n",
       "</table>\n",
       "</div>"
      ],
      "text/plain": [
       "     과일이름   품종    원가   할인  수량      합계  ETC\n",
       "                                          \n",
       "0   apple  신선한  4400  0.2   3   10560     \n",
       "1  banana  궁금한  5000  0.3   8   28000     \n",
       "2    kiwi  맛있는  2500  0.2  11   22000  1.3\n",
       "3   melon  최적의  7000  0.1  22  138600     \n",
       "4  orange   웰빙  2000  0.2   6    9600  2.2\n",
       "5   mango  유기농  8800  0.3   5   30799     "
      ]
     },
     "execution_count": 135,
     "metadata": {},
     "output_type": "execute_result"
    }
   ],
   "source": [
    "ee =pd.Series([1.3,2.2], index=[2,4])\n",
    "df3['ETC'] = ee\n",
    "df3 = df3.fillna('')\n",
    "df3"
   ]
  },
  {
   "cell_type": "code",
   "execution_count": null,
   "id": "8e5f8621",
   "metadata": {},
   "outputs": [],
   "source": [
    "0"
   ]
  }
 ],
 "metadata": {
  "kernelspec": {
   "display_name": "Python 3",
   "language": "python",
   "name": "python3"
  },
  "language_info": {
   "codemirror_mode": {
    "name": "ipython",
    "version": 3
   },
   "file_extension": ".py",
   "mimetype": "text/x-python",
   "name": "python",
   "nbconvert_exporter": "python",
   "pygments_lexer": "ipython3",
   "version": "3.13.3"
  }
 },
 "nbformat": 4,
 "nbformat_minor": 5
}
